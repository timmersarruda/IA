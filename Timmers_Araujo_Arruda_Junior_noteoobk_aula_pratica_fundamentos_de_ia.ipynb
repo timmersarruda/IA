{
  "nbformat": 4,
  "nbformat_minor": 0,
  "metadata": {
    "colab": {
      "provenance": [],
      "include_colab_link": true
    },
    "kernelspec": {
      "name": "python3",
      "display_name": "Python 3"
    }
  },
  "cells": [
    {
      "cell_type": "markdown",
      "metadata": {
        "id": "view-in-github",
        "colab_type": "text"
      },
      "source": [
        "<a href=\"https://colab.research.google.com/github/timmersarruda/IA/blob/main/Timmers_Araujo_Arruda_Junior_noteoobk_aula_pratica_fundamentos_de_ia.ipynb\" target=\"_parent\"><img src=\"https://colab.research.google.com/assets/colab-badge.svg\" alt=\"Open In Colab\"/></a>"
      ]
    },
    {
      "cell_type": "markdown",
      "metadata": {
        "id": "_i-DDRSeQbw2"
      },
      "source": [
        "# Exemplo Prático: Workflow IA\n",
        "\n",
        "## Classificação de Flores Íris\n",
        "\n",
        "O objetivo nessa prática é apresentar o workflow básico pra criação de um modelo inteligente para solucionar um problema de classificação. Desta forma, vamos realizar, passo a passo, as quatro principais etapas do processo: Extração de atributos, Divisão dos dados, Treinamento do modelo e Avaliação do modelo."
      ]
    },
    {
      "cell_type": "markdown",
      "metadata": {
        "id": "_LSmGBe_7X7t"
      },
      "source": [
        "<div>\n",
        "<img src=\"https://github.com/rafaelmm82/ufpb-ia-20201/raw/master/02-fundamentos_de_ia/02_aula_pratica_classificacao_iris/01_workflow_completo.jpg\", width=\"640\"/>\n",
        "<div/>"
      ]
    },
    {
      "cell_type": "markdown",
      "metadata": {
        "id": "LYvnD2lW_Ixh"
      },
      "source": [
        "# 1) Extração de Atributos\n",
        "\n",
        "Carregando e entendendo o conjunto de dados\n",
        "\n",
        "<div>\n",
        "<br/>\n",
        "<img src=\"https://github.com/rafaelmm82/ufpb-ia-20201/raw/master/02-fundamentos_de_ia/02_aula_pratica_classificacao_iris/02_extracao_dados.jpg\", width=\"640\"/>\n",
        "</div>"
      ]
    },
    {
      "cell_type": "code",
      "metadata": {
        "id": "WZmXzDAMQUzi",
        "colab": {
          "base_uri": "https://localhost:8080/"
        },
        "outputId": "ceeed59e-9860-4b62-f80f-6305e5c075e9"
      },
      "source": [
        "# Carregar e entender os dados\n",
        "\n",
        "# biblioteca para carregar e realizar operações tabulares\n",
        "import pandas as pd\n",
        "\n",
        "# biblioteca para plotar gráficos\n",
        "import matplotlib.pyplot as plt\n",
        "\n",
        "# dataset, arquivo com as amostras das medições das flores\n",
        "arquivo = 'https://raw.githubusercontent.com/rafaelmm82/ufpb-ia-20201/master/02-fundamentos_de_ia/02_aula_pratica_classificacao_iris/iris.csv'\n",
        "\n",
        "# carregando o conteúdo do arquivo em um objeto pandas.DataFrame\n",
        "# a partir do método de carregamento de arquivo read_csv\n",
        "# especificando que a primeira linha contém os nomes do cabeçalho\n",
        "dataset = pd.read_csv(arquivo, header=0)\n",
        "\n",
        "# exibindo a dimensão dos dados carregados (linhas, colunas)\n",
        "print(dataset.shape)"
      ],
      "execution_count": 2,
      "outputs": [
        {
          "output_type": "stream",
          "name": "stdout",
          "text": [
            "(150, 5)\n"
          ]
        }
      ]
    },
    {
      "cell_type": "code",
      "metadata": {
        "id": "1am9UD_LdY_N",
        "colab": {
          "base_uri": "https://localhost:8080/"
        },
        "outputId": "ca75dc00-5f43-4195-884f-9c1b20962fab"
      },
      "source": [
        "# exibindo as 10 primeiras linhas de valores contidos no dataset\n",
        "print(dataset.head(10))\n",
        "\n",
        "# exibindo os 10 últimas linhas de valores do dataset\n",
        "print(dataset.tail(10))"
      ],
      "execution_count": 3,
      "outputs": [
        {
          "output_type": "stream",
          "name": "stdout",
          "text": [
            "   comp. sépala  larg. sépala  comp. pétala  larg. pétala  classe\n",
            "0           5.1           3.5           1.4           0.2  Setosa\n",
            "1           4.9           3.0           1.4           0.2  Setosa\n",
            "2           4.7           3.2           1.3           0.2  Setosa\n",
            "3           4.6           3.1           1.5           0.2  Setosa\n",
            "4           5.0           3.6           1.4           0.2  Setosa\n",
            "5           5.4           3.9           1.7           0.4  Setosa\n",
            "6           4.6           3.4           1.4           0.3  Setosa\n",
            "7           5.0           3.4           1.5           0.2  Setosa\n",
            "8           4.4           2.9           1.4           0.2  Setosa\n",
            "9           4.9           3.1           1.5           0.1  Setosa\n",
            "     comp. sépala  larg. sépala  comp. pétala  larg. pétala     classe\n",
            "140           6.7           3.1           5.6           2.4  Virginica\n",
            "141           6.9           3.1           5.1           2.3  Virginica\n",
            "142           5.8           2.7           5.1           1.9  Virginica\n",
            "143           6.8           3.2           5.9           2.3  Virginica\n",
            "144           6.7           3.3           5.7           2.5  Virginica\n",
            "145           6.7           3.0           5.2           2.3  Virginica\n",
            "146           6.3           2.5           5.0           1.9  Virginica\n",
            "147           6.5           3.0           5.2           2.0  Virginica\n",
            "148           6.2           3.4           5.4           2.3  Virginica\n",
            "149           5.9           3.0           5.1           1.8  Virginica\n"
          ]
        }
      ]
    },
    {
      "cell_type": "code",
      "metadata": {
        "id": "rZq_S4imUlXC",
        "colab": {
          "base_uri": "https://localhost:8080/"
        },
        "outputId": "f8391202-3381-4076-b534-b050e3f95747"
      },
      "source": [
        "# para acesssar uma linha aleatória\n",
        "print(dataset.iloc[80])"
      ],
      "execution_count": 5,
      "outputs": [
        {
          "output_type": "stream",
          "name": "stdout",
          "text": [
            "comp. sépala           5.5\n",
            "larg. sépala           2.4\n",
            "comp. pétala           3.8\n",
            "larg. pétala           1.1\n",
            "classe          Versicolor\n",
            "Name: 80, dtype: object\n"
          ]
        }
      ]
    },
    {
      "cell_type": "code",
      "metadata": {
        "id": "roxtBJYxVSLz",
        "colab": {
          "base_uri": "https://localhost:8080/"
        },
        "outputId": "e02b97f9-73d9-49af-dfa7-8feab70cf340"
      },
      "source": [
        "# para saber a quantidade dados por classe\n",
        "print(dataset.groupby('classe').size())"
      ],
      "execution_count": 6,
      "outputs": [
        {
          "output_type": "stream",
          "name": "stdout",
          "text": [
            "classe\n",
            "Setosa        50\n",
            "Versicolor    50\n",
            "Virginica     50\n",
            "dtype: int64\n"
          ]
        }
      ]
    },
    {
      "cell_type": "code",
      "metadata": {
        "id": "S6GQqTYuU2t1",
        "colab": {
          "base_uri": "https://localhost:8080/"
        },
        "outputId": "8da22498-7558-414a-bf03-435ead629e37"
      },
      "source": [
        "# para obter um resumo estatístico dos dados\n",
        "print(dataset.describe())"
      ],
      "execution_count": 7,
      "outputs": [
        {
          "output_type": "stream",
          "name": "stdout",
          "text": [
            "       comp. sépala  larg. sépala  comp. pétala  larg. pétala\n",
            "count    150.000000    150.000000    150.000000    150.000000\n",
            "mean       5.843333      3.057333      3.758000      1.199333\n",
            "std        0.828066      0.435866      1.765298      0.762238\n",
            "min        4.300000      2.000000      1.000000      0.100000\n",
            "25%        5.100000      2.800000      1.600000      0.300000\n",
            "50%        5.800000      3.000000      4.350000      1.300000\n",
            "75%        6.400000      3.300000      5.100000      1.800000\n",
            "max        7.900000      4.400000      6.900000      2.500000\n"
          ]
        }
      ]
    },
    {
      "cell_type": "code",
      "metadata": {
        "id": "T_3DRvwuVpvN",
        "colab": {
          "base_uri": "https://localhost:8080/",
          "height": 435
        },
        "outputId": "2de347e0-7f3b-4bbb-a9d9-0ab356d7a89a"
      },
      "source": [
        "# exibindo um gráfico do tipo 'boxplot' em um grid de 2x2\n",
        "# com coordenadas independentes\n",
        "dataset.plot(kind='box', subplots=True, layout=(2,2), sharex=False, sharey=False)\n",
        "plt.show()"
      ],
      "execution_count": 8,
      "outputs": [
        {
          "output_type": "display_data",
          "data": {
            "text/plain": [
              "<Figure size 640x480 with 4 Axes>"
            ],
            "image/png": "[encoded data removed]"
          },
          "metadata": {}
        }
      ]
    },
    {
      "cell_type": "code",
      "metadata": {
        "id": "DoZygaTeV4BY",
        "colab": {
          "base_uri": "https://localhost:8080/",
          "height": 453
        },
        "outputId": "9a4abfb7-7d4d-48b8-cdbc-21d5514774a3"
      },
      "source": [
        "# exibindo um gráfico de histogramas para entender a distribuição dos mesmos\n",
        "dataset.hist()\n",
        "plt.show()"
      ],
      "execution_count": 9,
      "outputs": [
        {
          "output_type": "display_data",
          "data": {
            "text/plain": [
              "<Figure size 640x480 with 4 Axes>"
            ],
            "image/png": "[encoded data removed]"
          },
          "metadata": {}
        }
      ]
    },
    {
      "cell_type": "code",
      "metadata": {
        "id": "8SzTTfmdXQL5",
        "colab": {
          "base_uri": "https://localhost:8080/",
          "height": 454
        },
        "outputId": "b0f36aa6-ae77-4f73-ec03-1e36d184bb67"
      },
      "source": [
        "# gráfico tipo 'scatter plot' para verificar correlações entre as variáveis\n",
        "pd.plotting.scatter_matrix(dataset)\n",
        "plt.show()"
      ],
      "execution_count": 10,
      "outputs": [
        {
          "output_type": "display_data",
          "data": {
            "text/plain": [
              "<Figure size 640x480 with 16 Axes>"
            ],
            "image/png": "[encoded data removed]"
          },
          "metadata": {}
        }
      ]
    },
    {
      "cell_type": "markdown",
      "metadata": {
        "id": "mNtAUereYFJ4"
      },
      "source": [
        "# 2 - Divisão dos dados\n",
        "\n",
        "Criando dois conjuntos de dados para serem utilizados nas etapas seguintes, treinamento e avaliação.\n",
        "\n",
        "<div>\n",
        "<br/>\n",
        "<img src=\"https://github.com/rafaelmm82/ufpb-ia-20201/raw/master/02-fundamentos_de_ia/02_aula_pratica_classificacao_iris/03_divisao_dados.jpg\", width=\"640\"/>\n",
        "</div>"
      ]
    },
    {
      "cell_type": "code",
      "metadata": {
        "id": "C2aHMAn9fwjD",
        "colab": {
          "base_uri": "https://localhost:8080/"
        },
        "outputId": "4263f47c-e556-4a81-b34e-260179aa69da"
      },
      "source": [
        "# carregando uma função pertencente ao scikit-learn para realizar\n",
        "# automaticamente uma amostragem sem reposição aleatória e dividir\n",
        "# os dados em dois conjuntos\n",
        "from sklearn.model_selection import train_test_split\n",
        "\n",
        "# importante lembrar que as 4 primeiras colunas são o nosso 'X'\n",
        "# ou seja, os dados de entrada do modelo, e que a última coluna\n",
        "# é o nosso 'y', ou seja, o dado que o modelo deve aprender a predizer\n",
        "print('exemplo dado de entrada (x):\\n', dataset.iloc[4,:4])\n",
        "\n",
        "print('\\nexemplo dado de saída (y)\\n', dataset.iloc[4,4])"
      ],
      "execution_count": 11,
      "outputs": [
        {
          "output_type": "stream",
          "name": "stdout",
          "text": [
            "exemplo dado de entrada (x):\n",
            " comp. sépala    5.0\n",
            "larg. sépala    3.6\n",
            "comp. pétala    1.4\n",
            "larg. pétala    0.2\n",
            "Name: 4, dtype: object\n",
            "\n",
            "exemplo dado de saída (y)\n",
            " Setosa\n"
          ]
        }
      ]
    },
    {
      "cell_type": "code",
      "metadata": {
        "id": "oSjkCUwBZm-w",
        "colab": {
          "base_uri": "https://localhost:8080/"
        },
        "outputId": "f8ee0d4f-1705-4bcd-fe6c-660be0994fb1"
      },
      "source": [
        "# criando os dados de entrada e saída para treinamento e validação\n",
        "# usando o método 'values' ele retorna um array bidimensional\n",
        "# para serem inseridos na função train_test_split\n",
        "array = dataset.values\n",
        "print(type(array))\n",
        "X = array[:,0:4]\n",
        "y = array[:,4]\n",
        "\n",
        "print('\\ndimensão de X\\n', X.shape)\n",
        "print('\\ndimensão de y\\n', y.shape)"
      ],
      "execution_count": 12,
      "outputs": [
        {
          "output_type": "stream",
          "name": "stdout",
          "text": [
            "<class 'numpy.ndarray'>\n",
            "\n",
            "dimensão de X\n",
            " (150, 4)\n",
            "\n",
            "dimensão de y\n",
            " (150,)\n"
          ]
        }
      ]
    },
    {
      "cell_type": "code",
      "metadata": {
        "id": "mA0CiJnNa-LI",
        "colab": {
          "base_uri": "https://localhost:8080/"
        },
        "outputId": "757b2737-f031-42ce-80c0-2abc0768f5f7"
      },
      "source": [
        "\n",
        "# utilizando um critério de divisão percentual 20% na função train_test_split\n",
        "X_train, X_test, y_train, y_test = train_test_split(X, y, test_size=0.20, random_state=1)\n",
        "\n",
        "# olhando alguns dados referentes aos conjuntos\n",
        "print(f'\\n dimensão de X_train {X_train.shape} e y_train {y_train.shape}')\n",
        "print(f'\\n dimensão de X_test {X_test.shape} e de y_test {y_test.shape}.')"
      ],
      "execution_count": 13,
      "outputs": [
        {
          "output_type": "stream",
          "name": "stdout",
          "text": [
            "\n",
            " dimensão de X_train (120, 4) e y_train (120,)\n",
            "\n",
            " dimensão de X_test (30, 4) e de y_test (30,).\n"
          ]
        }
      ]
    },
    {
      "cell_type": "markdown",
      "metadata": {
        "id": "j5Cx9oqgcFNE"
      },
      "source": [
        "# 3 - Treinamento do Modelo\n",
        "\n",
        "Definindo um modelo e realizando o treinamento\n",
        "\n",
        "<div>\n",
        "<img src=\"https://github.com/rafaelmm82/ufpb-ia-20201/raw/master/02-fundamentos_de_ia/02_aula_pratica_classificacao_iris/04_treinamento_modelo.jpg\", width=\"640\"/>\n",
        "</div>"
      ]
    },
    {
      "cell_type": "code",
      "metadata": {
        "id": "hiIYLXKgio7r"
      },
      "source": [
        "# carregando a classe pra criar um modelo do scikit-learn\n",
        "from sklearn.svm import SVC\n",
        "\n",
        "# instanciando um objeto do modelo SVC com parâmetros padrões\n",
        "model = SVC(gamma='auto')"
      ],
      "execution_count": 14,
      "outputs": []
    },
    {
      "cell_type": "code",
      "metadata": {
        "id": "8ek8LvJNeN3N",
        "colab": {
          "base_uri": "https://localhost:8080/",
          "height": 80
        },
        "outputId": "c828d017-12c3-414a-ecd6-e3e7998a46e1"
      },
      "source": [
        "# executa o método de treinamento 'fit', para ajustar os parâmetros\n",
        "# do modelo, a partir de um algoritmo de aprendizagem, em função\n",
        "# dos valores contidos no conjunto de dados\n",
        "model.fit(X_train, y_train)"
      ],
      "execution_count": 15,
      "outputs": [
        {
          "output_type": "execute_result",
          "data": {
            "text/plain": [
              "SVC(gamma='auto')"
            ],
            "text/html": [
              "<style>#sk-container-id-1 {\n",
              "  /* Definition of color scheme common for light and dark mode */\n",
              "  --sklearn-color-text: #000;\n",
              "  --sklearn-color-text-muted: #666;\n",
              "  --sklearn-color-line: gray;\n",
              "  /* Definition of color scheme for unfitted estimators */\n",
              "  --sklearn-color-unfitted-level-0: #fff5e6;\n",
              "  --sklearn-color-unfitted-level-1: #f6e4d2;\n",
              "  --sklearn-color-unfitted-level-2: #ffe0b3;\n",
              "  --sklearn-color-unfitted-level-3: chocolate;\n",
              "  /* Definition of color scheme for fitted estimators */\n",
              "  --sklearn-color-fitted-level-0: #f0f8ff;\n",
              "  --sklearn-color-fitted-level-1: #d4ebff;\n",
              "  --sklearn-color-fitted-level-2: #b3dbfd;\n",
              "  --sklearn-color-fitted-level-3: cornflowerblue;\n",
              "\n",
              "  /* Specific color for light theme */\n",
              "  --sklearn-color-text-on-default-background: var(--sg-text-color, var(--theme-code-foreground, var(--jp-content-font-color1, black)));\n",
              "  --sklearn-color-background: var(--sg-background-color, var(--theme-background, var(--jp-layout-color0, white)));\n",
              "  --sklearn-color-border-box: var(--sg-text-color, var(--theme-code-foreground, var(--jp-content-font-color1, black)));\n",
              "  --sklearn-color-icon: #696969;\n",
              "\n",
              "  @media (prefers-color-scheme: dark) {\n",
              "    /* Redefinition of color scheme for dark theme */\n",
              "    --sklearn-color-text-on-default-background: var(--sg-text-color, var(--theme-code-foreground, var(--jp-content-font-color1, white)));\n",
              "    --sklearn-color-background: var(--sg-background-color, var(--theme-background, var(--jp-layout-color0, #111)));\n",
              "    --sklearn-color-border-box: var(--sg-text-color, var(--theme-code-foreground, var(--jp-content-font-color1, white)));\n",
              "    --sklearn-color-icon: #878787;\n",
              "  }\n",
              "}\n",
              "\n",
              "#sk-container-id-1 {\n",
              "  color: var(--sklearn-color-text);\n",
              "}\n",
              "\n",
              "#sk-container-id-1 pre {\n",
              "  padding: 0;\n",
              "}\n",
              "\n",
              "#sk-container-id-1 input.sk-hidden--visually {\n",
              "  border: 0;\n",
              "  clip: rect(1px 1px 1px 1px);\n",
              "  clip: rect(1px, 1px, 1px, 1px);\n",
              "  height: 1px;\n",
              "  margin: -1px;\n",
              "  overflow: hidden;\n",
              "  padding: 0;\n",
              "  position: absolute;\n",
              "  width: 1px;\n",
              "}\n",
              "\n",
              "#sk-container-id-1 div.sk-dashed-wrapped {\n",
              "  border: 1px dashed var(--sklearn-color-line);\n",
              "  margin: 0 0.4em 0.5em 0.4em;\n",
              "  box-sizing: border-box;\n",
              "  padding-bottom: 0.4em;\n",
              "  background-color: var(--sklearn-color-background);\n",
              "}\n",
              "\n",
              "#sk-container-id-1 div.sk-container {\n",
              "  /* jupyter's `normalize.less` sets `[hidden] { display: none; }`\n",
              "     but bootstrap.min.css set `[hidden] { display: none !important; }`\n",
              "     so we also need the `!important` here to be able to override the\n",
              "     default hidden behavior on the sphinx rendered scikit-learn.org.\n",
              "     See: https://github.com/scikit-learn/scikit-learn/issues/21755 */\n",
              "  display: inline-block !important;\n",
              "  position: relative;\n",
              "}\n",
              "\n",
              "#sk-container-id-1 div.sk-text-repr-fallback {\n",
              "  display: none;\n",
              "}\n",
              "\n",
              "div.sk-parallel-item,\n",
              "div.sk-serial,\n",
              "div.sk-item {\n",
              "  /* draw centered vertical line to link estimators */\n",
              "  background-image: linear-gradient(var(--sklearn-color-text-on-default-background), var(--sklearn-color-text-on-default-background));\n",
              "  background-size: 2px 100%;\n",
              "  background-repeat: no-repeat;\n",
              "  background-position: center center;\n",
              "}\n",
              "\n",
              "/* Parallel-specific style estimator block */\n",
              "\n",
              "#sk-container-id-1 div.sk-parallel-item::after {\n",
              "  content: \"\";\n",
              "  width: 100%;\n",
              "  border-bottom: 2px solid var(--sklearn-color-text-on-default-background);\n",
              "  flex-grow: 1;\n",
              "}\n",
              "\n",
              "#sk-container-id-1 div.sk-parallel {\n",
              "  display: flex;\n",
              "  align-items: stretch;\n",
              "  justify-content: center;\n",
              "  background-color: var(--sklearn-color-background);\n",
              "  position: relative;\n",
              "}\n",
              "\n",
              "#sk-container-id-1 div.sk-parallel-item {\n",
              "  display: flex;\n",
              "  flex-direction: column;\n",
              "}\n",
              "\n",
              "#sk-container-id-1 div.sk-parallel-item:first-child::after {\n",
              "  align-self: flex-end;\n",
              "  width: 50%;\n",
              "}\n",
              "\n",
              "#sk-container-id-1 div.sk-parallel-item:last-child::after {\n",
              "  align-self: flex-start;\n",
              "  width: 50%;\n",
              "}\n",
              "\n",
              "#sk-container-id-1 div.sk-parallel-item:only-child::after {\n",
              "  width: 0;\n",
              "}\n",
              "\n",
              "/* Serial-specific style estimator block */\n",
              "\n",
              "#sk-container-id-1 div.sk-serial {\n",
              "  display: flex;\n",
              "  flex-direction: column;\n",
              "  align-items: center;\n",
              "  background-color: var(--sklearn-color-background);\n",
              "  padding-right: 1em;\n",
              "  padding-left: 1em;\n",
              "}\n",
              "\n",
              "\n",
              "/* Toggleable style: style used for estimator/Pipeline/ColumnTransformer box that is\n",
              "clickable and can be expanded/collapsed.\n",
              "- Pipeline and ColumnTransformer use this feature and define the default style\n",
              "- Estimators will overwrite some part of the style using the `sk-estimator` class\n",
              "*/\n",
              "\n",
              "/* Pipeline and ColumnTransformer style (default) */\n",
              "\n",
              "#sk-container-id-1 div.sk-toggleable {\n",
              "  /* Default theme specific background. It is overwritten whether we have a\n",
              "  specific estimator or a Pipeline/ColumnTransformer */\n",
              "  background-color: var(--sklearn-color-background);\n",
              "}\n",
              "\n",
              "/* Toggleable label */\n",
              "#sk-container-id-1 label.sk-toggleable__label {\n",
              "  cursor: pointer;\n",
              "  display: flex;\n",
              "  width: 100%;\n",
              "  margin-bottom: 0;\n",
              "  padding: 0.5em;\n",
              "  box-sizing: border-box;\n",
              "  text-align: center;\n",
              "  align-items: start;\n",
              "  justify-content: space-between;\n",
              "  gap: 0.5em;\n",
              "}\n",
              "\n",
              "#sk-container-id-1 label.sk-toggleable__label .caption {\n",
              "  font-size: 0.6rem;\n",
              "  font-weight: lighter;\n",
              "  color: var(--sklearn-color-text-muted);\n",
              "}\n",
              "\n",
              "#sk-container-id-1 label.sk-toggleable__label-arrow:before {\n",
              "  /* Arrow on the left of the label */\n",
              "  content: \"▸\";\n",
              "  float: left;\n",
              "  margin-right: 0.25em;\n",
              "  color: var(--sklearn-color-icon);\n",
              "}\n",
              "\n",
              "#sk-container-id-1 label.sk-toggleable__label-arrow:hover:before {\n",
              "  color: var(--sklearn-color-text);\n",
              "}\n",
              "\n",
              "/* Toggleable content - dropdown */\n",
              "\n",
              "#sk-container-id-1 div.sk-toggleable__content {\n",
              "  max-height: 0;\n",
              "  max-width: 0;\n",
              "  overflow: hidden;\n",
              "  text-align: left;\n",
              "  /* unfitted */\n",
              "  background-color: var(--sklearn-color-unfitted-level-0);\n",
              "}\n",
              "\n",
              "#sk-container-id-1 div.sk-toggleable__content.fitted {\n",
              "  /* fitted */\n",
              "  background-color: var(--sklearn-color-fitted-level-0);\n",
              "}\n",
              "\n",
              "#sk-container-id-1 div.sk-toggleable__content pre {\n",
              "  margin: 0.2em;\n",
              "  border-radius: 0.25em;\n",
              "  color: var(--sklearn-color-text);\n",
              "  /* unfitted */\n",
              "  background-color: var(--sklearn-color-unfitted-level-0);\n",
              "}\n",
              "\n",
              "#sk-container-id-1 div.sk-toggleable__content.fitted pre {\n",
              "  /* unfitted */\n",
              "  background-color: var(--sklearn-color-fitted-level-0);\n",
              "}\n",
              "\n",
              "#sk-container-id-1 input.sk-toggleable__control:checked~div.sk-toggleable__content {\n",
              "  /* Expand drop-down */\n",
              "  max-height: 200px;\n",
              "  max-width: 100%;\n",
              "  overflow: auto;\n",
              "}\n",
              "\n",
              "#sk-container-id-1 input.sk-toggleable__control:checked~label.sk-toggleable__label-arrow:before {\n",
              "  content: \"▾\";\n",
              "}\n",
              "\n",
              "/* Pipeline/ColumnTransformer-specific style */\n",
              "\n",
              "#sk-container-id-1 div.sk-label input.sk-toggleable__control:checked~label.sk-toggleable__label {\n",
              "  color: var(--sklearn-color-text);\n",
              "  background-color: var(--sklearn-color-unfitted-level-2);\n",
              "}\n",
              "\n",
              "#sk-container-id-1 div.sk-label.fitted input.sk-toggleable__control:checked~label.sk-toggleable__label {\n",
              "  background-color: var(--sklearn-color-fitted-level-2);\n",
              "}\n",
              "\n",
              "/* Estimator-specific style */\n",
              "\n",
              "/* Colorize estimator box */\n",
              "#sk-container-id-1 div.sk-estimator input.sk-toggleable__control:checked~label.sk-toggleable__label {\n",
              "  /* unfitted */\n",
              "  background-color: var(--sklearn-color-unfitted-level-2);\n",
              "}\n",
              "\n",
              "#sk-container-id-1 div.sk-estimator.fitted input.sk-toggleable__control:checked~label.sk-toggleable__label {\n",
              "  /* fitted */\n",
              "  background-color: var(--sklearn-color-fitted-level-2);\n",
              "}\n",
              "\n",
              "#sk-container-id-1 div.sk-label label.sk-toggleable__label,\n",
              "#sk-container-id-1 div.sk-label label {\n",
              "  /* The background is the default theme color */\n",
              "  color: var(--sklearn-color-text-on-default-background);\n",
              "}\n",
              "\n",
              "/* On hover, darken the color of the background */\n",
              "#sk-container-id-1 div.sk-label:hover label.sk-toggleable__label {\n",
              "  color: var(--sklearn-color-text);\n",
              "  background-color: var(--sklearn-color-unfitted-level-2);\n",
              "}\n",
              "\n",
              "/* Label box, darken color on hover, fitted */\n",
              "#sk-container-id-1 div.sk-label.fitted:hover label.sk-toggleable__label.fitted {\n",
              "  color: var(--sklearn-color-text);\n",
              "  background-color: var(--sklearn-color-fitted-level-2);\n",
              "}\n",
              "\n",
              "/* Estimator label */\n",
              "\n",
              "#sk-container-id-1 div.sk-label label {\n",
              "  font-family: monospace;\n",
              "  font-weight: bold;\n",
              "  display: inline-block;\n",
              "  line-height: 1.2em;\n",
              "}\n",
              "\n",
              "#sk-container-id-1 div.sk-label-container {\n",
              "  text-align: center;\n",
              "}\n",
              "\n",
              "/* Estimator-specific */\n",
              "#sk-container-id-1 div.sk-estimator {\n",
              "  font-family: monospace;\n",
              "  border: 1px dotted var(--sklearn-color-border-box);\n",
              "  border-radius: 0.25em;\n",
              "  box-sizing: border-box;\n",
              "  margin-bottom: 0.5em;\n",
              "  /* unfitted */\n",
              "  background-color: var(--sklearn-color-unfitted-level-0);\n",
              "}\n",
              "\n",
              "#sk-container-id-1 div.sk-estimator.fitted {\n",
              "  /* fitted */\n",
              "  background-color: var(--sklearn-color-fitted-level-0);\n",
              "}\n",
              "\n",
              "/* on hover */\n",
              "#sk-container-id-1 div.sk-estimator:hover {\n",
              "  /* unfitted */\n",
              "  background-color: var(--sklearn-color-unfitted-level-2);\n",
              "}\n",
              "\n",
              "#sk-container-id-1 div.sk-estimator.fitted:hover {\n",
              "  /* fitted */\n",
              "  background-color: var(--sklearn-color-fitted-level-2);\n",
              "}\n",
              "\n",
              "/* Specification for estimator info (e.g. \"i\" and \"?\") */\n",
              "\n",
              "/* Common style for \"i\" and \"?\" */\n",
              "\n",
              ".sk-estimator-doc-link,\n",
              "a:link.sk-estimator-doc-link,\n",
              "a:visited.sk-estimator-doc-link {\n",
              "  float: right;\n",
              "  font-size: smaller;\n",
              "  line-height: 1em;\n",
              "  font-family: monospace;\n",
              "  background-color: var(--sklearn-color-background);\n",
              "  border-radius: 1em;\n",
              "  height: 1em;\n",
              "  width: 1em;\n",
              "  text-decoration: none !important;\n",
              "  margin-left: 0.5em;\n",
              "  text-align: center;\n",
              "  /* unfitted */\n",
              "  border: var(--sklearn-color-unfitted-level-1) 1pt solid;\n",
              "  color: var(--sklearn-color-unfitted-level-1);\n",
              "}\n",
              "\n",
              ".sk-estimator-doc-link.fitted,\n",
              "a:link.sk-estimator-doc-link.fitted,\n",
              "a:visited.sk-estimator-doc-link.fitted {\n",
              "  /* fitted */\n",
              "  border: var(--sklearn-color-fitted-level-1) 1pt solid;\n",
              "  color: var(--sklearn-color-fitted-level-1);\n",
              "}\n",
              "\n",
              "/* On hover */\n",
              "div.sk-estimator:hover .sk-estimator-doc-link:hover,\n",
              ".sk-estimator-doc-link:hover,\n",
              "div.sk-label-container:hover .sk-estimator-doc-link:hover,\n",
              ".sk-estimator-doc-link:hover {\n",
              "  /* unfitted */\n",
              "  background-color: var(--sklearn-color-unfitted-level-3);\n",
              "  color: var(--sklearn-color-background);\n",
              "  text-decoration: none;\n",
              "}\n",
              "\n",
              "div.sk-estimator.fitted:hover .sk-estimator-doc-link.fitted:hover,\n",
              ".sk-estimator-doc-link.fitted:hover,\n",
              "div.sk-label-container:hover .sk-estimator-doc-link.fitted:hover,\n",
              ".sk-estimator-doc-link.fitted:hover {\n",
              "  /* fitted */\n",
              "  background-color: var(--sklearn-color-fitted-level-3);\n",
              "  color: var(--sklearn-color-background);\n",
              "  text-decoration: none;\n",
              "}\n",
              "\n",
              "/* Span, style for the box shown on hovering the info icon */\n",
              ".sk-estimator-doc-link span {\n",
              "  display: none;\n",
              "  z-index: 9999;\n",
              "  position: relative;\n",
              "  font-weight: normal;\n",
              "  right: .2ex;\n",
              "  padding: .5ex;\n",
              "  margin: .5ex;\n",
              "  width: min-content;\n",
              "  min-width: 20ex;\n",
              "  max-width: 50ex;\n",
              "  color: var(--sklearn-color-text);\n",
              "  box-shadow: 2pt 2pt 4pt #999;\n",
              "  /* unfitted */\n",
              "  background: var(--sklearn-color-unfitted-level-0);\n",
              "  border: .5pt solid var(--sklearn-color-unfitted-level-3);\n",
              "}\n",
              "\n",
              ".sk-estimator-doc-link.fitted span {\n",
              "  /* fitted */\n",
              "  background: var(--sklearn-color-fitted-level-0);\n",
              "  border: var(--sklearn-color-fitted-level-3);\n",
              "}\n",
              "\n",
              ".sk-estimator-doc-link:hover span {\n",
              "  display: block;\n",
              "}\n",
              "\n",
              "/* \"?\"-specific style due to the `<a>` HTML tag */\n",
              "\n",
              "#sk-container-id-1 a.estimator_doc_link {\n",
              "  float: right;\n",
              "  font-size: 1rem;\n",
              "  line-height: 1em;\n",
              "  font-family: monospace;\n",
              "  background-color: var(--sklearn-color-background);\n",
              "  border-radius: 1rem;\n",
              "  height: 1rem;\n",
              "  width: 1rem;\n",
              "  text-decoration: none;\n",
              "  /* unfitted */\n",
              "  color: var(--sklearn-color-unfitted-level-1);\n",
              "  border: var(--sklearn-color-unfitted-level-1) 1pt solid;\n",
              "}\n",
              "\n",
              "#sk-container-id-1 a.estimator_doc_link.fitted {\n",
              "  /* fitted */\n",
              "  border: var(--sklearn-color-fitted-level-1) 1pt solid;\n",
              "  color: var(--sklearn-color-fitted-level-1);\n",
              "}\n",
              "\n",
              "/* On hover */\n",
              "#sk-container-id-1 a.estimator_doc_link:hover {\n",
              "  /* unfitted */\n",
              "  background-color: var(--sklearn-color-unfitted-level-3);\n",
              "  color: var(--sklearn-color-background);\n",
              "  text-decoration: none;\n",
              "}\n",
              "\n",
              "#sk-container-id-1 a.estimator_doc_link.fitted:hover {\n",
              "  /* fitted */\n",
              "  background-color: var(--sklearn-color-fitted-level-3);\n",
              "}\n",
              "</style><div id=\"sk-container-id-1\" class=\"sk-top-container\"><div class=\"sk-text-repr-fallback\"><pre>SVC(gamma=&#x27;auto&#x27;)</pre><b>In a Jupyter environment, please rerun this cell to show the HTML representation or trust the notebook. <br />On GitHub, the HTML representation is unable to render, please try loading this page with nbviewer.org.</b></div><div class=\"sk-container\" hidden><div class=\"sk-item\"><div class=\"sk-estimator fitted sk-toggleable\"><input class=\"sk-toggleable__control sk-hidden--visually\" id=\"sk-estimator-id-1\" type=\"checkbox\" checked><label for=\"sk-estimator-id-1\" class=\"sk-toggleable__label fitted sk-toggleable__label-arrow\"><div><div>SVC</div></div><div><a class=\"sk-estimator-doc-link fitted\" rel=\"noreferrer\" target=\"_blank\" href=\"https://scikit-learn.org/1.6/modules/generated/sklearn.svm.SVC.html\">?<span>Documentation for SVC</span></a><span class=\"sk-estimator-doc-link fitted\">i<span>Fitted</span></span></div></label><div class=\"sk-toggleable__content fitted\"><pre>SVC(gamma=&#x27;auto&#x27;)</pre></div> </div></div></div></div>"
            ]
          },
          "metadata": {},
          "execution_count": 15
        }
      ]
    },
    {
      "cell_type": "markdown",
      "metadata": {
        "id": "tDkFOqlHeoOx"
      },
      "source": [
        "# 4 - Avaliação do Modelo\n",
        "\n",
        "Utilizando o conjunto de dados de teste define-se uma métrica estatística de\n",
        "avaliação e deduz-se a qualidade do resultado do treinamento\n",
        "\n",
        "<div>\n",
        "<br/>\n",
        "<img src=\"https://github.com/rafaelmm82/ufpb-ia-20201/raw/master/02-fundamentos_de_ia/02_aula_pratica_classificacao_iris/05_avaliacao_modelo.jpg\", width=\"640\"/>\n",
        "<div/>"
      ]
    },
    {
      "cell_type": "code",
      "metadata": {
        "id": "BDGM-JgPfN5W"
      },
      "source": [],
      "execution_count": 15,
      "outputs": []
    },
    {
      "cell_type": "code",
      "metadata": {
        "id": "2TgjXLqNlZjz"
      },
      "source": [
        "# carregando funções da biblioteca scikit-learn que auxiliam no cálculo\n",
        "# das avaliações dos modelos\n",
        "from sklearn.metrics import classification_report, confusion_matrix, accuracy_score\n",
        "\n",
        "# realizando as predições utilizando o conjunto de testes\n",
        "prediction = model.predict(X_test)"
      ],
      "execution_count": 16,
      "outputs": []
    },
    {
      "cell_type": "code",
      "metadata": {
        "id": "qgRflsc6lhaF",
        "colab": {
          "base_uri": "https://localhost:8080/"
        },
        "outputId": "6121d0a1-f1ff-43ee-ad16-4a1597a4feda"
      },
      "source": [
        "# para efeitos de comparação e devido ao fato do conjunto ser pequeno\n",
        "# podemos observar visualmente o resultdo da predição e o valor real do dataset\n",
        "\n",
        "print('valores preditos\\n', prediction)\n",
        "print('\\nvalores reais do dataset\\n', y_test)\n",
        "print('\\ncomparativo lógico entre ambos\\n', prediction == y_test)"
      ],
      "execution_count": 17,
      "outputs": [
        {
          "output_type": "stream",
          "name": "stdout",
          "text": [
            "valores preditos\n",
            " ['Setosa' 'Versicolor' 'Versicolor' 'Setosa' 'Virginica' 'Versicolor'\n",
            " 'Virginica' 'Setosa' 'Setosa' 'Virginica' 'Versicolor' 'Setosa'\n",
            " 'Virginica' 'Versicolor' 'Versicolor' 'Setosa' 'Versicolor' 'Versicolor'\n",
            " 'Setosa' 'Setosa' 'Versicolor' 'Versicolor' 'Virginica' 'Setosa'\n",
            " 'Virginica' 'Versicolor' 'Setosa' 'Setosa' 'Versicolor' 'Virginica']\n",
            "\n",
            "valores reais do dataset\n",
            " ['Setosa' 'Versicolor' 'Versicolor' 'Setosa' 'Virginica' 'Versicolor'\n",
            " 'Virginica' 'Setosa' 'Setosa' 'Virginica' 'Versicolor' 'Setosa'\n",
            " 'Virginica' 'Versicolor' 'Versicolor' 'Setosa' 'Versicolor' 'Versicolor'\n",
            " 'Setosa' 'Setosa' 'Versicolor' 'Versicolor' 'Versicolor' 'Setosa'\n",
            " 'Virginica' 'Versicolor' 'Setosa' 'Setosa' 'Versicolor' 'Virginica']\n",
            "\n",
            "comparativo lógico entre ambos\n",
            " [ True  True  True  True  True  True  True  True  True  True  True  True\n",
            "  True  True  True  True  True  True  True  True  True  True False  True\n",
            "  True  True  True  True  True  True]\n"
          ]
        }
      ]
    },
    {
      "cell_type": "code",
      "metadata": {
        "id": "avP1jXWSgjPo",
        "colab": {
          "base_uri": "https://localhost:8080/"
        },
        "outputId": "fb55dab4-0ed2-43bf-8bd1-6c556874525b"
      },
      "source": [
        "# usando funções e métricas mais robustas para avaliar o desempenho\n",
        "\n",
        "# exibindo a acurácia do modelo para este treinamento\n",
        "print('acurácia\\n', accuracy_score(y_test, prediction))"
      ],
      "execution_count": 18,
      "outputs": [
        {
          "output_type": "stream",
          "name": "stdout",
          "text": [
            "acurácia\n",
            " 0.9666666666666667\n"
          ]
        }
      ]
    },
    {
      "cell_type": "code",
      "metadata": {
        "id": "H7PhyoJFl4ZS",
        "colab": {
          "base_uri": "https://localhost:8080/"
        },
        "outputId": "9dbe90ca-5aa0-42e3-cc54-330966ba34ef"
      },
      "source": [
        "# exibindo a matrix confusão VP, FP, VN FN\n",
        "print('matrix confusão\\n', confusion_matrix(y_test, prediction))"
      ],
      "execution_count": 19,
      "outputs": [
        {
          "output_type": "stream",
          "name": "stdout",
          "text": [
            "matrix confusão\n",
            " [[11  0  0]\n",
            " [ 0 12  1]\n",
            " [ 0  0  6]]\n"
          ]
        }
      ]
    },
    {
      "cell_type": "code",
      "metadata": {
        "id": "f45IKwWvmn6y",
        "colab": {
          "base_uri": "https://localhost:8080/"
        },
        "outputId": "58c93a55-6ecc-4172-a5d3-da227846099d"
      },
      "source": [
        "# exibindo um relatório mais completo com os índices:\n",
        "# precisão, recall, f1-score e support\n",
        "print('relatório completo\\n', classification_report(y_test, prediction))"
      ],
      "execution_count": 20,
      "outputs": [
        {
          "output_type": "stream",
          "name": "stdout",
          "text": [
            "relatório completo\n",
            "               precision    recall  f1-score   support\n",
            "\n",
            "      Setosa       1.00      1.00      1.00        11\n",
            "  Versicolor       1.00      0.92      0.96        13\n",
            "   Virginica       0.86      1.00      0.92         6\n",
            "\n",
            "    accuracy                           0.97        30\n",
            "   macro avg       0.95      0.97      0.96        30\n",
            "weighted avg       0.97      0.97      0.97        30\n",
            "\n"
          ]
        }
      ]
    },
    {
      "cell_type": "markdown",
      "metadata": {
        "id": "Kl9e3XszhV48"
      },
      "source": [
        "## Qual conclusão podemos tirar do processo de treinamento?\n",
        "\n",
        "E se, por exemplo, tivéssemos usado outros valores para divisão dos dados?"
      ]
    },
    {
      "cell_type": "code",
      "metadata": {
        "id": "tL_d5GVBhmdU",
        "colab": {
          "base_uri": "https://localhost:8080/"
        },
        "outputId": "6c7d754f-a309-4bd2-f9dc-902096e323cf"
      },
      "source": [
        "# para avaliar o que aconteceria se tivéssemos utilizado outra propoção de dados\n",
        "# para treino e validação podemos refazer parte do procedimento\n",
        "X_train, X_test, y_train, y_test = train_test_split(X, y, test_size=0.95, random_state=1)\n",
        "print(f'\\ndimensão de X_train {X_train.shape} e y_train {y_train.shape}')\n",
        "print(f'\\ndimensão de X_test {X_test.shape} e de y_test {y_test.shape}.')\n",
        "\n",
        "# Cria novamente o modelo, treina, prediz e avalia\n",
        "model_2 = SVC(gamma='auto')\n",
        "model_2.fit(X_train, y_train)\n",
        "prediction = model_2.predict(X_test)\n",
        "print('\\nacurácia\\n', accuracy_score(y_test, prediction))\n",
        "print('\\nmatrix confusão\\n', confusion_matrix(y_test, prediction))\n",
        "print('\\nrelatório completo\\n', classification_report(y_test, prediction))"
      ],
      "execution_count": 21,
      "outputs": [
        {
          "output_type": "stream",
          "name": "stdout",
          "text": [
            "\n",
            "dimensão de X_train (7, 4) e y_train (7,)\n",
            "\n",
            "dimensão de X_test (143, 4) e de y_test (143,).\n",
            "\n",
            "acurácia\n",
            " 0.8321678321678322\n",
            "\n",
            "matrix confusão\n",
            " [[49  0  0]\n",
            " [ 0 25 23]\n",
            " [ 0  1 45]]\n",
            "\n",
            "relatório completo\n",
            "               precision    recall  f1-score   support\n",
            "\n",
            "      Setosa       1.00      1.00      1.00        49\n",
            "  Versicolor       0.96      0.52      0.68        48\n",
            "   Virginica       0.66      0.98      0.79        46\n",
            "\n",
            "    accuracy                           0.83       143\n",
            "   macro avg       0.87      0.83      0.82       143\n",
            "weighted avg       0.88      0.83      0.82       143\n",
            "\n"
          ]
        }
      ]
    }
  ]
}