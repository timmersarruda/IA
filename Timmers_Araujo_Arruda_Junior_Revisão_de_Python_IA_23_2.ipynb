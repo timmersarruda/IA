{
  "cells": [
    {
      "cell_type": "markdown",
      "metadata": {
        "id": "view-in-github",
        "colab_type": "text"
      },
      "source": [
        "<a href=\"https://colab.research.google.com/github/timmersarruda/IA/blob/main/Timmers_Araujo_Arruda_Junior_Revis%C3%A3o_de_Python_IA_23_2.ipynb\" target=\"_parent\"><img src=\"https://colab.research.google.com/assets/colab-badge.svg\" alt=\"Open In Colab\"/></a>"
      ]
    },
    {
      "cell_type": "markdown",
      "metadata": {
        "id": "X1BR0ablh10j"
      },
      "source": [
        "# Revisão de Python\n",
        "\n",
        "\n"
      ]
    },
    {
      "cell_type": "markdown",
      "source": [
        "**ATENÇÃO: LEIAM TODAS AS QUESTÕES, tem coisas que precisam de dados que apenas cada um de vocês podem fornecer!**\n",
        "\n",
        "\n",
        "**TODAS AS CÉLULAS DEVERÃO SER EXECUTADAS** Células não executadas serão consideradas não concluídas!"
      ],
      "metadata": {
        "id": "bwmcMXnistgZ"
      }
    },
    {
      "cell_type": "markdown",
      "metadata": {
        "id": "IDm6-4mgh10l"
      },
      "source": [
        "O Python é uma linguagem interpretada. Podemos fornecer comandos ao interpretador, que serão executados imediatamente (não existe uma fase de compilação)."
      ]
    },
    {
      "cell_type": "code",
      "execution_count": 1,
      "metadata": {
        "collapsed": true,
        "id": "tuZxVIsch10m",
        "colab": {
          "base_uri": "https://localhost:8080/"
        },
        "outputId": "b8b94241-3870-4182-8300-dd68939aacd1"
      },
      "outputs": [
        {
          "output_type": "execute_result",
          "data": {
            "text/plain": [
              "5"
            ]
          },
          "metadata": {},
          "execution_count": 1
        }
      ],
      "source": [
        "2 + 3"
      ]
    },
    {
      "cell_type": "markdown",
      "metadata": {
        "id": "sH59IwqFh10n"
      },
      "source": [
        "## 1 Tipos de dados"
      ]
    },
    {
      "cell_type": "markdown",
      "metadata": {
        "id": "CpAPxoFjh10o"
      },
      "source": [
        "Existem três tipos numéricos primitivos em Python:\n",
        "- Inteiros\n",
        "- Números de ponto flutuante\n",
        "- Números complexos"
      ]
    },
    {
      "cell_type": "markdown",
      "metadata": {
        "id": "3OvESxJ4h10o"
      },
      "source": [
        "### 1.1 Inteiro"
      ]
    },
    {
      "cell_type": "markdown",
      "metadata": {
        "id": "eM_kbq0jh10p"
      },
      "source": [
        "A única novidade dos números inteiros é que eles têm precisão ilimitada (podemos representar um número tão grande quanto o computador e o interpretador consigam)."
      ]
    },
    {
      "cell_type": "code",
      "execution_count": 2,
      "metadata": {
        "collapsed": true,
        "id": "_f4KauPlh10p",
        "colab": {
          "base_uri": "https://localhost:8080/"
        },
        "outputId": "e212e0f8-6203-4350-891a-8e7324602bdf"
      },
      "outputs": [
        {
          "output_type": "execute_result",
          "data": {
            "text/plain": [
              "12"
            ]
          },
          "metadata": {},
          "execution_count": 2
        }
      ],
      "source": [
        "12"
      ]
    },
    {
      "cell_type": "code",
      "execution_count": 3,
      "metadata": {
        "collapsed": true,
        "id": "SWFv2DdYh10q",
        "colab": {
          "base_uri": "https://localhost:8080/"
        },
        "outputId": "ea36fd72-e0f9-45c1-f8c2-86c9c909afb9"
      },
      "outputs": [
        {
          "output_type": "execute_result",
          "data": {
            "text/plain": [
              "-12"
            ]
          },
          "metadata": {},
          "execution_count": 3
        }
      ],
      "source": [
        "-12"
      ]
    },
    {
      "cell_type": "code",
      "execution_count": 4,
      "metadata": {
        "collapsed": true,
        "id": "SIXjUIzph10r",
        "colab": {
          "base_uri": "https://localhost:8080/"
        },
        "outputId": "9f946af8-a6cb-4ebb-ae74-d202966db744"
      },
      "outputs": [
        {
          "output_type": "execute_result",
          "data": {
            "text/plain": [
              "9999999999999999999999999999"
            ]
          },
          "metadata": {},
          "execution_count": 4
        }
      ],
      "source": [
        "10000000000000000000000000000 - 1"
      ]
    },
    {
      "cell_type": "code",
      "source": [
        "# digite o ano que você nasceu nesta célula abaixo deste comentário:\n",
        "1998"
      ],
      "metadata": {
        "id": "zNC41Ft6tS3p",
        "colab": {
          "base_uri": "https://localhost:8080/"
        },
        "outputId": "5814e3f7-5b76-4614-c872-a0ac103c8a22"
      },
      "execution_count": 5,
      "outputs": [
        {
          "output_type": "execute_result",
          "data": {
            "text/plain": [
              "1998"
            ]
          },
          "metadata": {},
          "execution_count": 5
        }
      ]
    },
    {
      "cell_type": "markdown",
      "metadata": {
        "id": "03W2iIqFh10r"
      },
      "source": [
        "### 1.2 Ponto flutuante"
      ]
    },
    {
      "cell_type": "markdown",
      "metadata": {
        "id": "L9KGVBlgh10s"
      },
      "source": [
        "Os números de ponto flutuante são sempre de precisão dupla (64 bits)"
      ]
    },
    {
      "cell_type": "code",
      "execution_count": 14,
      "metadata": {
        "collapsed": true,
        "id": "KH8NlxdQh10s",
        "colab": {
          "base_uri": "https://localhost:8080/"
        },
        "outputId": "1cf9cd9f-1f2e-42d1-9553-188195c5002c"
      },
      "outputs": [
        {
          "output_type": "execute_result",
          "data": {
            "text/plain": [
              "2.3e-05"
            ]
          },
          "metadata": {},
          "execution_count": 14
        }
      ],
      "source": [
        "2.3e-5"
      ]
    },
    {
      "cell_type": "code",
      "execution_count": 6,
      "metadata": {
        "id": "rxqQzNfPh10t",
        "colab": {
          "base_uri": "https://localhost:8080/"
        },
        "outputId": "5673ee9a-6d89-4087-f8c1-76443d2de23a"
      },
      "outputs": [
        {
          "output_type": "execute_result",
          "data": {
            "text/plain": [
              "0.42"
            ]
          },
          "metadata": {},
          "execution_count": 6
        }
      ],
      "source": [
        "0.42"
      ]
    },
    {
      "cell_type": "code",
      "execution_count": 11,
      "metadata": {
        "id": "ewd0TKhlh10u",
        "colab": {
          "base_uri": "https://localhost:8080/"
        },
        "outputId": "d3135c4a-937e-420b-a77c-41007a7f1033"
      },
      "outputs": [
        {
          "output_type": "execute_result",
          "data": {
            "text/plain": [
              "-12.760113"
            ]
          },
          "metadata": {},
          "execution_count": 11
        }
      ],
      "source": [
        "-12.760113"
      ]
    },
    {
      "cell_type": "code",
      "execution_count": 12,
      "metadata": {
        "id": "GmaENwIEh10u",
        "colab": {
          "base_uri": "https://localhost:8080/"
        },
        "outputId": "3138b8c0-0b32-4cc8-bdeb-21cedd0fa7b5"
      },
      "outputs": [
        {
          "output_type": "execute_result",
          "data": {
            "text/plain": [
              "3.0"
            ]
          },
          "metadata": {},
          "execution_count": 12
        }
      ],
      "source": [
        "3."
      ]
    },
    {
      "cell_type": "code",
      "execution_count": 13,
      "metadata": {
        "id": "6TAmgSxbh10v",
        "colab": {
          "base_uri": "https://localhost:8080/"
        },
        "outputId": "f55021d2-489b-4c18-914f-a0ed67e203a0"
      },
      "outputs": [
        {
          "output_type": "execute_result",
          "data": {
            "text/plain": [
              "0.5"
            ]
          },
          "metadata": {},
          "execution_count": 13
        }
      ],
      "source": [
        ".5"
      ]
    },
    {
      "cell_type": "code",
      "source": [
        "# digite o valor do ano que você nasceu com quatro dígitos (Ex: 1912) dividido por 4.3\n",
        "464.65"
      ],
      "metadata": {
        "id": "oq4tcwxctaZl",
        "colab": {
          "base_uri": "https://localhost:8080/"
        },
        "outputId": "5ac22bd2-312f-4068-8650-5a046aff263d"
      },
      "execution_count": 8,
      "outputs": [
        {
          "output_type": "execute_result",
          "data": {
            "text/plain": [
              "464.65"
            ]
          },
          "metadata": {},
          "execution_count": 8
        }
      ]
    },
    {
      "cell_type": "markdown",
      "metadata": {
        "id": "hhPVTpAjh10w"
      },
      "source": [
        "### 1.3 Complexo"
      ]
    },
    {
      "cell_type": "markdown",
      "metadata": {
        "id": "yAPOuNP9h10x"
      },
      "source": [
        "Números complexos podem ser representados pela notação cartesiana, colocando um `j` após o valor da parte imaginária."
      ]
    },
    {
      "cell_type": "code",
      "execution_count": 9,
      "metadata": {
        "collapsed": true,
        "id": "AgJrYmFph10y",
        "colab": {
          "base_uri": "https://localhost:8080/"
        },
        "outputId": "24eb69af-8422-4cb7-cf22-e7f89e5cc329"
      },
      "outputs": [
        {
          "output_type": "execute_result",
          "data": {
            "text/plain": [
              "(2+3j)"
            ]
          },
          "metadata": {},
          "execution_count": 9
        }
      ],
      "source": [
        "2 + 3j"
      ]
    },
    {
      "cell_type": "code",
      "execution_count": 10,
      "metadata": {
        "collapsed": true,
        "id": "Hu5dEFwyh10z",
        "colab": {
          "base_uri": "https://localhost:8080/"
        },
        "outputId": "7812f38f-0a06-464f-dca7-b10f047df453"
      },
      "outputs": [
        {
          "output_type": "execute_result",
          "data": {
            "text/plain": [
              "(0.45-1200j)"
            ]
          },
          "metadata": {},
          "execution_count": 10
        }
      ],
      "source": [
        "0.45 - 1.2e3j"
      ]
    },
    {
      "cell_type": "markdown",
      "metadata": {
        "id": "ZjhLUV6Zh10z"
      },
      "source": [
        "## 2 Operações"
      ]
    },
    {
      "cell_type": "markdown",
      "metadata": {
        "id": "6jmlmr5Ch100"
      },
      "source": [
        "O Python entende todos os operadores aritméticos tradicionais para todos os tipos numéricos acima. A exponenciação é representada por `**`."
      ]
    },
    {
      "cell_type": "code",
      "execution_count": 15,
      "metadata": {
        "collapsed": true,
        "id": "VnlCdSHRh100",
        "colab": {
          "base_uri": "https://localhost:8080/"
        },
        "outputId": "1ffbab12-ef7b-4fa4-985f-3820558a6042"
      },
      "outputs": [
        {
          "output_type": "execute_result",
          "data": {
            "text/plain": [
              "2"
            ]
          },
          "metadata": {},
          "execution_count": 15
        }
      ],
      "source": [
        "1 + 1"
      ]
    },
    {
      "cell_type": "code",
      "execution_count": 16,
      "metadata": {
        "collapsed": true,
        "id": "FVNHvTbvh101",
        "colab": {
          "base_uri": "https://localhost:8080/"
        },
        "outputId": "c6c14a64-d1cd-4a7b-98fa-f3e60d40ff03"
      },
      "outputs": [
        {
          "output_type": "execute_result",
          "data": {
            "text/plain": [
              "-3"
            ]
          },
          "metadata": {},
          "execution_count": 16
        }
      ],
      "source": [
        "1 - 4"
      ]
    },
    {
      "cell_type": "code",
      "execution_count": 17,
      "metadata": {
        "collapsed": true,
        "id": "aF0M3MKbh101",
        "colab": {
          "base_uri": "https://localhost:8080/"
        },
        "outputId": "6527adae-a2ee-4c96-fad1-1fbfcc640986"
      },
      "outputs": [
        {
          "output_type": "execute_result",
          "data": {
            "text/plain": [
              "12"
            ]
          },
          "metadata": {},
          "execution_count": 17
        }
      ],
      "source": [
        "3 * 4"
      ]
    },
    {
      "cell_type": "code",
      "execution_count": 18,
      "metadata": {
        "collapsed": true,
        "id": "eavInjXMh102",
        "colab": {
          "base_uri": "https://localhost:8080/"
        },
        "outputId": "77abf412-3b3b-4391-9208-599015cf6e30"
      },
      "outputs": [
        {
          "output_type": "execute_result",
          "data": {
            "text/plain": [
              "0.6666666666666666"
            ]
          },
          "metadata": {},
          "execution_count": 18
        }
      ],
      "source": [
        "2 / 3"
      ]
    },
    {
      "cell_type": "markdown",
      "metadata": {
        "id": "vQrilr6nh103"
      },
      "source": [
        "Como vemos acima, a divisão de números inteiros **resulta em um número de ponto flutuante**."
      ]
    },
    {
      "cell_type": "code",
      "execution_count": 19,
      "metadata": {
        "collapsed": true,
        "id": "snrAJ5b5h103",
        "colab": {
          "base_uri": "https://localhost:8080/"
        },
        "outputId": "e5fb9e7b-f70b-46ec-a53b-3ab957395126"
      },
      "outputs": [
        {
          "output_type": "execute_result",
          "data": {
            "text/plain": [
              "8"
            ]
          },
          "metadata": {},
          "execution_count": 19
        }
      ],
      "source": [
        "2 ** 3"
      ]
    },
    {
      "cell_type": "code",
      "execution_count": 20,
      "metadata": {
        "collapsed": true,
        "id": "LgBrGsVXh104",
        "colab": {
          "base_uri": "https://localhost:8080/"
        },
        "outputId": "0b15267a-2824-4003-a59a-6727d20867cb"
      },
      "outputs": [
        {
          "output_type": "execute_result",
          "data": {
            "text/plain": [
              "1.8000000000000003"
            ]
          },
          "metadata": {},
          "execution_count": 20
        }
      ],
      "source": [
        "3.2 - 1.4"
      ]
    },
    {
      "cell_type": "code",
      "execution_count": 21,
      "metadata": {
        "collapsed": true,
        "id": "uYvfnzToh104",
        "colab": {
          "base_uri": "https://localhost:8080/"
        },
        "outputId": "96721dd7-0533-4a7b-bb64-911acef18300"
      },
      "outputs": [
        {
          "output_type": "execute_result",
          "data": {
            "text/plain": [
              "2.2"
            ]
          },
          "metadata": {},
          "execution_count": 21
        }
      ],
      "source": [
        "3.2 - 1"
      ]
    },
    {
      "cell_type": "code",
      "execution_count": 22,
      "metadata": {
        "collapsed": true,
        "id": "_okipG9th104",
        "colab": {
          "base_uri": "https://localhost:8080/"
        },
        "outputId": "682a9e8d-1620-42c9-df2b-dd47e3c9240e"
      },
      "outputs": [
        {
          "output_type": "execute_result",
          "data": {
            "text/plain": [
              "(2.2+4j)"
            ]
          },
          "metadata": {},
          "execution_count": 22
        }
      ],
      "source": [
        "3.2 - (1 - 4J)"
      ]
    },
    {
      "cell_type": "code",
      "execution_count": 23,
      "metadata": {
        "collapsed": true,
        "scrolled": true,
        "id": "-fvnmH8Jh105",
        "colab": {
          "base_uri": "https://localhost:8080/"
        },
        "outputId": "fb9b0496-5573-492f-b360-d51bb5536eff"
      },
      "outputs": [
        {
          "output_type": "execute_result",
          "data": {
            "text/plain": [
              "4.333333333333333"
            ]
          },
          "metadata": {},
          "execution_count": 23
        }
      ],
      "source": [
        "13 / 3"
      ]
    },
    {
      "cell_type": "code",
      "execution_count": 24,
      "metadata": {
        "id": "nyfeQ0qyh105",
        "colab": {
          "base_uri": "https://localhost:8080/"
        },
        "outputId": "bfab56a5-4a07-4636-c217-ef924142fb4d"
      },
      "outputs": [
        {
          "output_type": "execute_result",
          "data": {
            "text/plain": [
              "(-0.5+1.5j)"
            ]
          },
          "metadata": {},
          "execution_count": 24
        }
      ],
      "source": [
        "(1+2j)/(1-1j)"
      ]
    },
    {
      "cell_type": "markdown",
      "metadata": {
        "id": "m6i4L11rh106"
      },
      "source": [
        "A divisão inteira pode ser conseguida pelo operador `//`."
      ]
    },
    {
      "cell_type": "code",
      "execution_count": 25,
      "metadata": {
        "collapsed": true,
        "id": "vuS5tzWwh106",
        "colab": {
          "base_uri": "https://localhost:8080/"
        },
        "outputId": "669e3556-1444-4faa-cae7-43f5cbb4198e"
      },
      "outputs": [
        {
          "output_type": "execute_result",
          "data": {
            "text/plain": [
              "4"
            ]
          },
          "metadata": {},
          "execution_count": 25
        }
      ],
      "source": [
        "13 // 3"
      ]
    },
    {
      "cell_type": "markdown",
      "metadata": {
        "id": "Fna_OiNOh107"
      },
      "source": [
        "O resto da divisão inteira é calculado pelo operador `%`"
      ]
    },
    {
      "cell_type": "code",
      "execution_count": 26,
      "metadata": {
        "collapsed": true,
        "id": "qEccqwr5h107",
        "colab": {
          "base_uri": "https://localhost:8080/"
        },
        "outputId": "98b6bb44-636f-4de1-9482-e167d84cf1f5"
      },
      "outputs": [
        {
          "output_type": "execute_result",
          "data": {
            "text/plain": [
              "1"
            ]
          },
          "metadata": {},
          "execution_count": 26
        }
      ],
      "source": [
        "13 % 3"
      ]
    },
    {
      "cell_type": "markdown",
      "metadata": {
        "id": "ynneLZhah107"
      },
      "source": [
        "A divisão inteira arredonda para baixo (isto é, para $-\\infty$):"
      ]
    },
    {
      "cell_type": "code",
      "execution_count": 27,
      "metadata": {
        "collapsed": true,
        "id": "XbPGaN0Sh107",
        "colab": {
          "base_uri": "https://localhost:8080/"
        },
        "outputId": "bf6c65d6-fe38-4ea5-92de-952999f60177"
      },
      "outputs": [
        {
          "output_type": "execute_result",
          "data": {
            "text/plain": [
              "-5"
            ]
          },
          "metadata": {},
          "execution_count": 27
        }
      ],
      "source": [
        "-13 // 3"
      ]
    },
    {
      "cell_type": "markdown",
      "metadata": {
        "id": "T3Z1jfGKh108"
      },
      "source": [
        "O resto é sempre compartível com a divisão `(a // b) * b + (a % b) == a`"
      ]
    },
    {
      "cell_type": "code",
      "execution_count": 28,
      "metadata": {
        "collapsed": true,
        "id": "JNvUVafGh108",
        "colab": {
          "base_uri": "https://localhost:8080/"
        },
        "outputId": "b30ebff6-5128-435f-b860-22057d4a340d"
      },
      "outputs": [
        {
          "output_type": "execute_result",
          "data": {
            "text/plain": [
              "2"
            ]
          },
          "metadata": {},
          "execution_count": 28
        }
      ],
      "source": [
        "-13 % 3"
      ]
    },
    {
      "cell_type": "markdown",
      "metadata": {
        "id": "-AWBGhToh108"
      },
      "source": [
        "Um outro jeito de entender a relação entre a divisão inteira e o resto é que o resto está sempre entre 0 e o divisor."
      ]
    },
    {
      "cell_type": "code",
      "execution_count": 29,
      "metadata": {
        "collapsed": true,
        "id": "SxN2W_vNh108",
        "colab": {
          "base_uri": "https://localhost:8080/"
        },
        "outputId": "9933823f-70f8-4fd3-d73c-a3c1968dd5be"
      },
      "outputs": [
        {
          "output_type": "execute_result",
          "data": {
            "text/plain": [
              "-5"
            ]
          },
          "metadata": {},
          "execution_count": 29
        }
      ],
      "source": [
        "13 // -3"
      ]
    },
    {
      "cell_type": "code",
      "execution_count": 30,
      "metadata": {
        "collapsed": true,
        "id": "TolnP78dh109",
        "colab": {
          "base_uri": "https://localhost:8080/"
        },
        "outputId": "7e1a3262-9456-42ac-d2bb-fc341c48ae96"
      },
      "outputs": [
        {
          "output_type": "execute_result",
          "data": {
            "text/plain": [
              "-2"
            ]
          },
          "metadata": {},
          "execution_count": 30
        }
      ],
      "source": [
        "13 % -3"
      ]
    },
    {
      "cell_type": "markdown",
      "metadata": {
        "id": "G5V7VrH1h109"
      },
      "source": [
        "## 3 Condicionais"
      ]
    },
    {
      "cell_type": "markdown",
      "metadata": {
        "id": "Y0r7-pa2h109"
      },
      "source": [
        "Blocos de comandos são representados em Python pela quantidade de **espaço em branco** antes dos comandos do bloco.\n",
        "\n",
        "O comando condicional é representado por um `if` seguido da condição e de dois pontos, com os comandos a serem executados caso a condição seja verdadeira delimitados pela quantidade de espaço em branco."
      ]
    },
    {
      "cell_type": "code",
      "execution_count": 37,
      "metadata": {
        "collapsed": true,
        "id": "LEY-lKF3h109",
        "colab": {
          "base_uri": "https://localhost:8080/"
        },
        "outputId": "2d3f8d38-3f95-4f65-8934-04b87d29986d"
      },
      "outputs": [
        {
          "output_type": "stream",
          "name": "stdout",
          "text": [
            "Ufa, ainda bem!\n",
            "Fiquei assustado por um tempo.\n"
          ]
        }
      ],
      "source": [
        "if 2 < 3:\n",
        "    print('Ufa, ainda bem!')\n",
        "    print('Fiquei assustado por um tempo.')"
      ]
    },
    {
      "cell_type": "code",
      "execution_count": 38,
      "metadata": {
        "collapsed": true,
        "id": "I1DHg8tOh10-"
      },
      "outputs": [],
      "source": [
        "if 2 >= 3:\n",
        "    print('Whats going on here?')"
      ]
    },
    {
      "cell_type": "markdown",
      "metadata": {
        "id": "CYus1ahkh10-"
      },
      "source": [
        "Colocamos um bloco dentro de outro bloco aumentando a quantidade de espaço em branco."
      ]
    },
    {
      "cell_type": "code",
      "execution_count": 39,
      "metadata": {
        "collapsed": true,
        "id": "OHNW30hOh10-",
        "colab": {
          "base_uri": "https://localhost:8080/"
        },
        "outputId": "2732fabd-c036-47c2-d4e0-2fc2fd46fd19"
      },
      "outputs": [
        {
          "output_type": "stream",
          "name": "stdout",
          "text": [
            "Positivo\n"
          ]
        }
      ],
      "source": [
        "x = 3\n",
        "if x > 0:\n",
        "    print('Positivo')\n",
        "    if x % 2 == 0:\n",
        "        print('Par')"
      ]
    },
    {
      "cell_type": "markdown",
      "metadata": {
        "id": "xDQ-pAlgh10-"
      },
      "source": [
        "Para indicar comando a executar caso a condição seja falsa, usamos o comando `else`."
      ]
    },
    {
      "cell_type": "code",
      "execution_count": 40,
      "metadata": {
        "collapsed": true,
        "id": "I1o8ETFmh10_",
        "colab": {
          "base_uri": "https://localhost:8080/"
        },
        "outputId": "f967e923-f94c-4b29-bdc3-04a7d6ad812f"
      },
      "outputs": [
        {
          "output_type": "stream",
          "name": "stdout",
          "text": [
            "Tudo certo \n"
          ]
        }
      ],
      "source": [
        "if 2 < 3:\n",
        "    print('Tudo certo ')\n",
        "else:\n",
        "    print('Problemas')"
      ]
    },
    {
      "cell_type": "code",
      "source": [
        "# Refaça o código acima traduzindo as palavras para o idioma inglês:\n",
        "if 2 < 3:\n",
        "    print('All very well? ')\n",
        "else:\n",
        "    print('I was scared for a while.')"
      ],
      "metadata": {
        "id": "Ph6NA8kotwWH",
        "colab": {
          "base_uri": "https://localhost:8080/"
        },
        "outputId": "48ce6f86-21e6-4c04-d476-fb3b7f98d1e9"
      },
      "execution_count": 41,
      "outputs": [
        {
          "output_type": "stream",
          "name": "stdout",
          "text": [
            "All very well? \n"
          ]
        }
      ]
    },
    {
      "cell_type": "markdown",
      "metadata": {
        "id": "HUPYVRxjh10_"
      },
      "source": [
        "Outro comando associado com o if é o `elif` que indica uma outra condição a testar, *caso a condição anterior tenha sido falsa*."
      ]
    },
    {
      "cell_type": "code",
      "execution_count": 45,
      "metadata": {
        "collapsed": true,
        "id": "IUgCb8mwh11A",
        "colab": {
          "base_uri": "https://localhost:8080/"
        },
        "outputId": "2bd94515-f81b-451a-c68c-961ca26c025f"
      },
      "outputs": [
        {
          "output_type": "stream",
          "name": "stdout",
          "text": [
            "Positivo\n"
          ]
        }
      ],
      "source": [
        "x = 1\n",
        "if x < 0:\n",
        "    print('Negativo')\n",
        "elif x > 0:\n",
        "    print('Positivo')\n",
        "else:\n",
        "    print('Nulo')"
      ]
    },
    {
      "cell_type": "markdown",
      "metadata": {
        "id": "ezQmy9lPh11A"
      },
      "source": [
        "## 4 Repetição"
      ]
    },
    {
      "cell_type": "markdown",
      "metadata": {
        "id": "Ma7zassPh11A"
      },
      "source": [
        "Uma repetição é indicada pelo comando `while`, que tem sintaxe similar à do `if`."
      ]
    },
    {
      "cell_type": "code",
      "execution_count": 47,
      "metadata": {
        "collapsed": true,
        "id": "XscioPqjh11B",
        "colab": {
          "base_uri": "https://localhost:8080/"
        },
        "outputId": "66b0cda1-db28-4a4a-9c83-f1c910469586"
      },
      "outputs": [
        {
          "output_type": "stream",
          "name": "stdout",
          "text": [
            "10\n",
            "9\n",
            "8\n",
            "7\n",
            "6\n",
            "5\n",
            "4\n",
            "3\n",
            "2\n",
            "1\n"
          ]
        }
      ],
      "source": [
        "n = 10\n",
        "while n > 0:\n",
        "    print(n)\n",
        "    n -= 1"
      ]
    },
    {
      "cell_type": "code",
      "source": [
        "# Refaça o código acima, porém altere o n para o valor da sua idade em anos\n",
        "n = 26\n",
        "while n > 0:\n",
        "    print(n)\n",
        "    n -= 1"
      ],
      "metadata": {
        "id": "kf22KOlBt5ZJ",
        "colab": {
          "base_uri": "https://localhost:8080/"
        },
        "outputId": "918de616-2b45-4cd1-9414-d73f2439940d"
      },
      "execution_count": 48,
      "outputs": [
        {
          "output_type": "stream",
          "name": "stdout",
          "text": [
            "26\n",
            "25\n",
            "24\n",
            "23\n",
            "22\n",
            "21\n",
            "20\n",
            "19\n",
            "18\n",
            "17\n",
            "16\n",
            "15\n",
            "14\n",
            "13\n",
            "12\n",
            "11\n",
            "10\n",
            "9\n",
            "8\n",
            "7\n",
            "6\n",
            "5\n",
            "4\n",
            "3\n",
            "2\n",
            "1\n"
          ]
        }
      ]
    },
    {
      "cell_type": "markdown",
      "metadata": {
        "id": "OThyCdp0h11C"
      },
      "source": [
        "## 5 For"
      ]
    },
    {
      "cell_type": "markdown",
      "metadata": {
        "id": "hNnu-L6Hh11C"
      },
      "source": [
        "Ao contrário de C, onde o `for` é apenas uma outra forma de escrever um `while`, o `for` de Python tem uma semântica diferente. No `for` se especifica uma variável e uma sequência de valores. Cada um dos valores da sequência será atribuído (em ordem e um por vez) à variável, e então o bloco de comandos dentro do `for` será executado.\n",
        "\n",
        "Por exemplo:"
      ]
    },
    {
      "cell_type": "code",
      "execution_count": 49,
      "metadata": {
        "collapsed": true,
        "id": "1AatJ5Gsh11C",
        "colab": {
          "base_uri": "https://localhost:8080/"
        },
        "outputId": "b1702e0b-076c-463e-bb5e-f1c7dfe19d5c"
      },
      "outputs": [
        {
          "output_type": "stream",
          "name": "stdout",
          "text": [
            "2 4\n",
            "3 9\n",
            "5 25\n",
            "7 49\n",
            "11 121\n",
            "13 169\n"
          ]
        }
      ],
      "source": [
        "for x in [2, 3, 5, 7, 11, 13]:\n",
        "    print(x, x**2)"
      ]
    },
    {
      "cell_type": "code",
      "execution_count": 50,
      "metadata": {
        "collapsed": true,
        "id": "mP2YzfoLh11D",
        "colab": {
          "base_uri": "https://localhost:8080/"
        },
        "outputId": "3294ccbf-6dc1-4802-b9cc-6e2cffcc3993"
      },
      "outputs": [
        {
          "output_type": "stream",
          "name": "stdout",
          "text": [
            "a primeiro\n",
            "b segundo\n",
            "c terceiro\n"
          ]
        }
      ],
      "source": [
        "trans = {'a': 'primeiro', 'b': 'segundo', 'c': 'terceiro'}\n",
        "for k in trans:\n",
        "    print(k, trans[k])"
      ]
    },
    {
      "cell_type": "markdown",
      "metadata": {
        "id": "3GbwOiNWh11D"
      },
      "source": [
        "Note no resultado acima: *a ordem em que os elementos são percorrido é determinada pelo gerador da sequência*. No caso de listas, serão gerados os elementos na ordem em que eles se encontram na lista, mas em dicionários (mais sobre eles adiante) a ordem depende de como eles são armazenados internamente.\n",
        "\n",
        "Bastante útil com o `for` é a sequência `range`, que tem o formato\n",
        "\n",
        "    range(inicio, final, passo)\n",
        "\n",
        "e gera um conjunto de valores igualmente espaçados. Aqui, `inicio` indica o primeiro valor a gerar, `final` indica o valor onde se para de gerar (esse valor **não será incluído entre os gerados**) e `passo` é a separação de um valor para o próximo. Podemos omitir `passo`, e seu valor será assumido como 1. Podemos adicionalmente omitir `inicio` e seu valor será assumido como 0.\n",
        "\n",
        "Veja os exemplos:"
      ]
    },
    {
      "cell_type": "code",
      "execution_count": 51,
      "metadata": {
        "collapsed": true,
        "id": "agXZQA_oh11E",
        "colab": {
          "base_uri": "https://localhost:8080/"
        },
        "outputId": "60324c70-eb2b-4d2d-ff52-c5d4ac43087a"
      },
      "outputs": [
        {
          "output_type": "stream",
          "name": "stdout",
          "text": [
            "2\n",
            "4\n",
            "6\n",
            "8\n"
          ]
        }
      ],
      "source": [
        "for i in range(2, 10, 2):\n",
        "    print(i)"
      ]
    },
    {
      "cell_type": "code",
      "execution_count": 52,
      "metadata": {
        "collapsed": true,
        "id": "YXVqYoLRh11E",
        "colab": {
          "base_uri": "https://localhost:8080/"
        },
        "outputId": "ec8d426b-f75d-4844-ea2c-94e8f25c1f67"
      },
      "outputs": [
        {
          "output_type": "stream",
          "name": "stdout",
          "text": [
            "2\n",
            "3\n",
            "4\n",
            "5\n",
            "6\n",
            "7\n",
            "8\n",
            "9\n"
          ]
        }
      ],
      "source": [
        "for i in range(2, 10):\n",
        "    print(i)"
      ]
    },
    {
      "cell_type": "code",
      "execution_count": 53,
      "metadata": {
        "collapsed": true,
        "id": "N2nbmXG0h11E",
        "colab": {
          "base_uri": "https://localhost:8080/"
        },
        "outputId": "591d50e4-4820-417a-8458-17a471384778"
      },
      "outputs": [
        {
          "output_type": "stream",
          "name": "stdout",
          "text": [
            "0\n",
            "1\n",
            "2\n",
            "3\n",
            "4\n",
            "5\n",
            "6\n",
            "7\n",
            "8\n",
            "9\n"
          ]
        }
      ],
      "source": [
        "for i in range(10):\n",
        "    print(i)"
      ]
    },
    {
      "cell_type": "code",
      "execution_count": 54,
      "metadata": {
        "collapsed": true,
        "id": "9b9aCbMph11F",
        "colab": {
          "base_uri": "https://localhost:8080/"
        },
        "outputId": "292c6298-a12c-43c2-e4cd-323f74f6326d"
      },
      "outputs": [
        {
          "output_type": "stream",
          "name": "stdout",
          "text": [
            "10\n",
            "8\n",
            "6\n",
            "4\n"
          ]
        }
      ],
      "source": [
        "for i in range(10, 2, -2):\n",
        "    print(i)"
      ]
    },
    {
      "cell_type": "markdown",
      "metadata": {
        "id": "wOT90ZcWh11F"
      },
      "source": [
        "Similarmente útil é o gerador `enumerate`, que percorre uma dada sequência e gera pares índice/valor para essa sequência (os pares são tuplas com dois elementos; mais sobre tuplas adiante).\n",
        "\n",
        "Veja o exemplo:"
      ]
    },
    {
      "cell_type": "code",
      "execution_count": 55,
      "metadata": {
        "collapsed": true,
        "id": "pej1Z5_6h11F",
        "colab": {
          "base_uri": "https://localhost:8080/"
        },
        "outputId": "ae3f3725-335e-43e8-b2de-9448d4529b26"
      },
      "outputs": [
        {
          "output_type": "stream",
          "name": "stdout",
          "text": [
            "0 :  2\n",
            "1 :  3\n",
            "2 :  5\n",
            "3 :  7\n",
            "4 :  11\n",
            "5 :  13\n",
            "6 :  17\n",
            "7 :  19\n"
          ]
        }
      ],
      "source": [
        "valores = [2, 3, 5, 7, 11, 13, 17, 19]\n",
        "for i, x in enumerate(valores):\n",
        "    print(i, ': ', x)"
      ]
    },
    {
      "cell_type": "code",
      "source": [
        "# Refaça o código acima com os valores que você gostaria de atingir nas suas próximas 6 avaliações:\n",
        "valores = [10, 10, 10, 10, 10, 10, 10, 10]\n",
        "for i, x in enumerate(valores):\n",
        "    print(i, ': ', x)"
      ],
      "metadata": {
        "id": "PH7RyH90uFpm",
        "colab": {
          "base_uri": "https://localhost:8080/"
        },
        "outputId": "6b009011-3fdb-4676-8259-0be25a556e46"
      },
      "execution_count": 56,
      "outputs": [
        {
          "output_type": "stream",
          "name": "stdout",
          "text": [
            "0 :  10\n",
            "1 :  10\n",
            "2 :  10\n",
            "3 :  10\n",
            "4 :  10\n",
            "5 :  10\n",
            "6 :  10\n",
            "7 :  10\n"
          ]
        }
      ]
    },
    {
      "cell_type": "markdown",
      "metadata": {
        "id": "SBdJUVMih11G"
      },
      "source": [
        "## 6 Variáveis"
      ]
    },
    {
      "cell_type": "markdown",
      "metadata": {
        "id": "z0Y3L0YDh11G"
      },
      "source": [
        "Variáveis não precisam ser declaradas. Uma variável em Python passa a existir no momento em que atribuímos um valor a ela.\n",
        "\n",
        "Na verdade, a variável recebe uma *referência* a um *objeto* que tem o valor atribuido. Uma referência é similar a um ponteiro em C. Uma variável pode referenciar objetos de qualquer tipo."
      ]
    },
    {
      "cell_type": "code",
      "execution_count": 57,
      "metadata": {
        "collapsed": true,
        "id": "syI7FHBqh11G"
      },
      "outputs": [],
      "source": [
        "x = 12"
      ]
    },
    {
      "cell_type": "code",
      "execution_count": 58,
      "metadata": {
        "collapsed": true,
        "id": "r1ONVzw0h11H",
        "colab": {
          "base_uri": "https://localhost:8080/"
        },
        "outputId": "59eaacf9-0d7f-4355-ab06-991067776297"
      },
      "outputs": [
        {
          "output_type": "stream",
          "name": "stdout",
          "text": [
            "12\n"
          ]
        }
      ],
      "source": [
        "print(x)"
      ]
    },
    {
      "cell_type": "code",
      "execution_count": 59,
      "metadata": {
        "collapsed": true,
        "id": "UMec28bph11H"
      },
      "outputs": [],
      "source": [
        "x = 2 + 5j"
      ]
    },
    {
      "cell_type": "code",
      "execution_count": 60,
      "metadata": {
        "collapsed": true,
        "id": "Tvqjpz9fh11I",
        "colab": {
          "base_uri": "https://localhost:8080/"
        },
        "outputId": "729633f1-f732-4183-e2bd-68ee23067b8f"
      },
      "outputs": [
        {
          "output_type": "stream",
          "name": "stdout",
          "text": [
            "(2+5j)\n"
          ]
        }
      ],
      "source": [
        "print(x)"
      ]
    },
    {
      "cell_type": "markdown",
      "metadata": {
        "id": "-9ZA2spNh11I"
      },
      "source": [
        "## 7 Estruturas de dados"
      ]
    },
    {
      "cell_type": "markdown",
      "metadata": {
        "id": "GGPtbJ_Nh11I"
      },
      "source": [
        "Existem algumas estruturas de dados pré-definidas que são bastante úteis:\n",
        "- Listas\n",
        "- Dicionários\n",
        "- Conjuntos\n",
        "- Tuplas"
      ]
    },
    {
      "cell_type": "markdown",
      "metadata": {
        "id": "_RGIJQ5Jh11I"
      },
      "source": [
        "### 7.1 Listas"
      ]
    },
    {
      "cell_type": "markdown",
      "metadata": {
        "id": "gIHUmVqQh11J"
      },
      "source": [
        "Listas são listas ligadas com diversos elementos armazenados sequencialmente, na qual podemos com facilidade inserir ou retirar elementos.\n",
        "\n",
        "A lista na verdade guarda referências para os objetos (da mesma forma que as variáveis).\n",
        "\n",
        "Representamos uma lista usando `[` e `]` com os elementos separados por vírgulas."
      ]
    },
    {
      "cell_type": "code",
      "execution_count": 61,
      "metadata": {
        "collapsed": true,
        "id": "eyOVAYjBh11J"
      },
      "outputs": [],
      "source": [
        "primeiros_pares = [0, 2, 4, 6, 8, 10]"
      ]
    },
    {
      "cell_type": "code",
      "execution_count": 62,
      "metadata": {
        "collapsed": true,
        "id": "ExjJ57vRh11J",
        "colab": {
          "base_uri": "https://localhost:8080/"
        },
        "outputId": "1cf91f58-bfed-42fd-fe1e-656c95dbec88"
      },
      "outputs": [
        {
          "output_type": "execute_result",
          "data": {
            "text/plain": [
              "[0, 2, 4, 6, 8, 10]"
            ]
          },
          "metadata": {},
          "execution_count": 62
        }
      ],
      "source": [
        "primeiros_pares"
      ]
    },
    {
      "cell_type": "markdown",
      "metadata": {
        "id": "bO5KfS8Uh11J"
      },
      "source": [
        "Uma lista pode ser indexada para acessar um elemento arbitrário."
      ]
    },
    {
      "cell_type": "code",
      "execution_count": 63,
      "metadata": {
        "collapsed": true,
        "id": "_Ow5S8r2h11K",
        "colab": {
          "base_uri": "https://localhost:8080/"
        },
        "outputId": "07aec043-537d-45be-e074-0f6a9b61fca0"
      },
      "outputs": [
        {
          "output_type": "execute_result",
          "data": {
            "text/plain": [
              "2"
            ]
          },
          "metadata": {},
          "execution_count": 63
        }
      ],
      "source": [
        "primeiros_pares[1]"
      ]
    },
    {
      "cell_type": "code",
      "execution_count": 64,
      "metadata": {
        "collapsed": true,
        "id": "HBFRIbsmh11K",
        "colab": {
          "base_uri": "https://localhost:8080/"
        },
        "outputId": "3384fc8f-c138-4014-f889-3fa17c3a952e"
      },
      "outputs": [
        {
          "output_type": "execute_result",
          "data": {
            "text/plain": [
              "0"
            ]
          },
          "metadata": {},
          "execution_count": 64
        }
      ],
      "source": [
        "primeiros_pares[0]"
      ]
    },
    {
      "cell_type": "markdown",
      "metadata": {
        "id": "Fxdq47bfh11K"
      },
      "source": [
        "O índice fornecido é verificado: Se ele for inválido, um erro será gerado, interrompendo a execução do programa."
      ]
    },
    {
      "cell_type": "code",
      "execution_count": 66,
      "metadata": {
        "collapsed": true,
        "id": "noszN-yHh11L",
        "colab": {
          "base_uri": "https://localhost:8080/"
        },
        "outputId": "fc2d01e3-f778-4297-cb67-f43f059a0647"
      },
      "outputs": [
        {
          "output_type": "execute_result",
          "data": {
            "text/plain": [
              "10"
            ]
          },
          "metadata": {},
          "execution_count": 66
        }
      ],
      "source": [
        "primeiros_pares[5]"
      ]
    },
    {
      "cell_type": "markdown",
      "metadata": {
        "id": "oeH2yEbIh11L"
      },
      "source": [
        "Podemos descobrir o número de elementos na lista com a função `len`."
      ]
    },
    {
      "cell_type": "code",
      "execution_count": 67,
      "metadata": {
        "collapsed": true,
        "id": "9do6zEO9h11L",
        "colab": {
          "base_uri": "https://localhost:8080/"
        },
        "outputId": "392b9764-5bb5-45b3-8d8b-52eff4a52726"
      },
      "outputs": [
        {
          "output_type": "execute_result",
          "data": {
            "text/plain": [
              "6"
            ]
          },
          "metadata": {},
          "execution_count": 67
        }
      ],
      "source": [
        "len(primeiros_pares)"
      ]
    },
    {
      "cell_type": "markdown",
      "metadata": {
        "id": "720cSORyh11M"
      },
      "source": [
        "Índices para as listas podem ser negativos. Neste caso, eles contam de trás para frente a partir do último elemento (o último é o índice -1)."
      ]
    },
    {
      "cell_type": "code",
      "execution_count": 68,
      "metadata": {
        "collapsed": true,
        "id": "frTAgAWCh11M",
        "colab": {
          "base_uri": "https://localhost:8080/"
        },
        "outputId": "581c4f61-835d-4e44-a90b-c418f629cc5e"
      },
      "outputs": [
        {
          "output_type": "execute_result",
          "data": {
            "text/plain": [
              "10"
            ]
          },
          "metadata": {},
          "execution_count": 68
        }
      ],
      "source": [
        "primeiros_pares[-1]"
      ]
    },
    {
      "cell_type": "code",
      "execution_count": 69,
      "metadata": {
        "collapsed": true,
        "id": "kcV6nZi5h11M",
        "colab": {
          "base_uri": "https://localhost:8080/"
        },
        "outputId": "184b531e-dfb1-46c1-89e2-9ef58c9d65a6"
      },
      "outputs": [
        {
          "output_type": "execute_result",
          "data": {
            "text/plain": [
              "8"
            ]
          },
          "metadata": {},
          "execution_count": 69
        }
      ],
      "source": [
        "primeiros_pares[-2]"
      ]
    },
    {
      "cell_type": "markdown",
      "metadata": {
        "id": "KyWwiIcvh11N"
      },
      "source": [
        "Índices negativos também são verificados."
      ]
    },
    {
      "cell_type": "code",
      "execution_count": 71,
      "metadata": {
        "collapsed": true,
        "id": "ov9ADRGJh11N",
        "colab": {
          "base_uri": "https://localhost:8080/"
        },
        "outputId": "8dd8ecdc-1bdf-41b4-f58d-d07b1871b16c"
      },
      "outputs": [
        {
          "output_type": "execute_result",
          "data": {
            "text/plain": [
              "0"
            ]
          },
          "metadata": {},
          "execution_count": 71
        }
      ],
      "source": [
        "primeiros_pares[-6]"
      ]
    },
    {
      "cell_type": "markdown",
      "metadata": {
        "id": "eCu6Xh0Dh11N"
      },
      "source": [
        "Se quisermos encontrar índice de um elemento numa lista que tenha um valor especificado, podemos usar o método `index`, com a sintaxe abaixo (lista seguida de ponto seguida do nome do métodos seguido dos argumentos entre parêntesis)."
      ]
    },
    {
      "cell_type": "code",
      "execution_count": 72,
      "metadata": {
        "collapsed": true,
        "id": "uJy7--tEh11N",
        "colab": {
          "base_uri": "https://localhost:8080/"
        },
        "outputId": "390529f6-e71b-454d-85f1-7b1755c46855"
      },
      "outputs": [
        {
          "output_type": "execute_result",
          "data": {
            "text/plain": [
              "4"
            ]
          },
          "metadata": {},
          "execution_count": 72
        }
      ],
      "source": [
        "primeiros_pares.index(8)"
      ]
    },
    {
      "cell_type": "markdown",
      "metadata": {
        "id": "WvWQpD3nh11N"
      },
      "source": [
        "Se o elemento procurado não existe, o método `index` gera um erro (exceção)."
      ]
    },
    {
      "cell_type": "code",
      "execution_count": 76,
      "metadata": {
        "id": "zEpE1IgFh11O",
        "colab": {
          "base_uri": "https://localhost:8080/"
        },
        "outputId": "264b49f0-d8e6-44d6-ff45-71a616d3eac5"
      },
      "outputs": [
        {
          "output_type": "execute_result",
          "data": {
            "text/plain": [
              "5"
            ]
          },
          "metadata": {},
          "execution_count": 76
        }
      ],
      "source": [
        "primeiros_pares.index(10)"
      ]
    },
    {
      "cell_type": "markdown",
      "metadata": {
        "id": "p52V5_3Vh11O"
      },
      "source": [
        "Podemos também acrescentar novos elementos no final das listas, usando o método `append`:"
      ]
    },
    {
      "cell_type": "code",
      "execution_count": 77,
      "metadata": {
        "collapsed": true,
        "id": "x6wuMONEh11O"
      },
      "outputs": [],
      "source": [
        "primeiros_pares.append(12)"
      ]
    },
    {
      "cell_type": "code",
      "execution_count": 78,
      "metadata": {
        "collapsed": true,
        "id": "mIBg7Hizh11O",
        "colab": {
          "base_uri": "https://localhost:8080/"
        },
        "outputId": "eb1598a5-d723-4c01-f445-828e4ef87599"
      },
      "outputs": [
        {
          "output_type": "execute_result",
          "data": {
            "text/plain": [
              "[0, 2, 4, 6, 8, 10, 12]"
            ]
          },
          "metadata": {},
          "execution_count": 78
        }
      ],
      "source": [
        "primeiros_pares"
      ]
    },
    {
      "cell_type": "code",
      "execution_count": 79,
      "metadata": {
        "id": "aaR1wqrVh11P",
        "colab": {
          "base_uri": "https://localhost:8080/"
        },
        "outputId": "c5c7e9d5-8c24-4f89-b961-70ae316629d3"
      },
      "outputs": [
        {
          "output_type": "execute_result",
          "data": {
            "text/plain": [
              "6"
            ]
          },
          "metadata": {},
          "execution_count": 79
        }
      ],
      "source": [
        "primeiros_pares.index(12)"
      ]
    },
    {
      "cell_type": "markdown",
      "metadata": {
        "id": "udq44y8Hh11P"
      },
      "source": [
        "### 7.2 Dicionários"
      ]
    },
    {
      "cell_type": "markdown",
      "metadata": {
        "id": "Hvf8Q_Phh11P"
      },
      "source": [
        "Outra estrutura de dados é o chamado dicionário. Ele é uma estrutura que guarda pares chave/valor, associando um valor para cada chave fornecida. Chaves e valores podem ser qualquer objeto. Podemos depois consultar o dicionário para encontrar o valor associado a uma chave.\n",
        "\n",
        "A sintaxe é com `{` e `}` e pares chave/valor separados por vírgula; cada par chave/valor é representado pela chave, um \"dois pontos\" e o valor."
      ]
    },
    {
      "cell_type": "code",
      "execution_count": 80,
      "metadata": {
        "collapsed": true,
        "id": "TKmxOy0mh11P"
      },
      "outputs": [],
      "source": [
        "telefones = {\"ana\": 123, \"beto\": 456, \"carlos\": 789, \"bento\": 543}"
      ]
    },
    {
      "cell_type": "markdown",
      "metadata": {
        "id": "iGee2saTh11P"
      },
      "source": [
        "Para encontra o valor associado com uma chave usamos a sintaxe de indexação."
      ]
    },
    {
      "cell_type": "code",
      "execution_count": 81,
      "metadata": {
        "id": "7JwOJ658h11Q",
        "colab": {
          "base_uri": "https://localhost:8080/"
        },
        "outputId": "3a664bec-28b6-408c-8c91-182cd57709b8"
      },
      "outputs": [
        {
          "output_type": "execute_result",
          "data": {
            "text/plain": [
              "456"
            ]
          },
          "metadata": {},
          "execution_count": 81
        }
      ],
      "source": [
        "telefones['beto']"
      ]
    },
    {
      "cell_type": "markdown",
      "metadata": {
        "id": "cfPXKhAWh11Q"
      },
      "source": [
        "Podemos também mudar o valor associado a uma chave através dessa sintaxe."
      ]
    },
    {
      "cell_type": "code",
      "execution_count": 82,
      "metadata": {
        "collapsed": true,
        "id": "WfpcmK-Ih11Q"
      },
      "outputs": [],
      "source": [
        "telefones['carlos'] = 333"
      ]
    },
    {
      "cell_type": "markdown",
      "metadata": {
        "id": "7WvtUo-kh11Q"
      },
      "source": [
        "As chaves são verificadas: se uma chave for solicitada para a qual nenhum valor foi fornecido, será gerado um erro."
      ]
    },
    {
      "cell_type": "code",
      "execution_count": 83,
      "metadata": {
        "id": "3QHr5D23h11R",
        "colab": {
          "base_uri": "https://localhost:8080/",
          "height": 141
        },
        "outputId": "e908e49a-5e7f-4922-e117-eae1cf0e3d15"
      },
      "outputs": [
        {
          "output_type": "error",
          "ename": "KeyError",
          "evalue": "'pedro'",
          "traceback": [
            "\u001b[0;31m---------------------------------------------------------------------------\u001b[0m",
            "\u001b[0;31mKeyError\u001b[0m                                  Traceback (most recent call last)",
            "\u001b[0;32m<ipython-input-83-dc07816b741b>\u001b[0m in \u001b[0;36m<cell line: 0>\u001b[0;34m()\u001b[0m\n\u001b[0;32m----> 1\u001b[0;31m \u001b[0mtelefones\u001b[0m\u001b[0;34m[\u001b[0m\u001b[0;34m'pedro'\u001b[0m\u001b[0;34m]\u001b[0m\u001b[0;34m\u001b[0m\u001b[0;34m\u001b[0m\u001b[0m\n\u001b[0m",
            "\u001b[0;31mKeyError\u001b[0m: 'pedro'"
          ]
        }
      ],
      "source": [
        "telefones['pedro']"
      ]
    },
    {
      "cell_type": "markdown",
      "metadata": {
        "id": "lGLCfSjGh11R"
      },
      "source": [
        "Por outro lado, podemos fornecer o valor para uma nova chave."
      ]
    },
    {
      "cell_type": "code",
      "execution_count": 84,
      "metadata": {
        "collapsed": true,
        "id": "KzVfkmNUh11R"
      },
      "outputs": [],
      "source": [
        "telefones['pedro'] = 7777"
      ]
    },
    {
      "cell_type": "code",
      "execution_count": 85,
      "metadata": {
        "id": "S1qT8tPCh11R",
        "colab": {
          "base_uri": "https://localhost:8080/"
        },
        "outputId": "5094c463-3c28-4689-a496-de2d90d6a7b6"
      },
      "outputs": [
        {
          "output_type": "execute_result",
          "data": {
            "text/plain": [
              "{'ana': 123, 'beto': 456, 'carlos': 333, 'bento': 543, 'pedro': 7777}"
            ]
          },
          "metadata": {},
          "execution_count": 85
        }
      ],
      "source": [
        "telefones"
      ]
    },
    {
      "cell_type": "markdown",
      "metadata": {
        "id": "6i4USvA8h11S"
      },
      "source": [
        "Os valores são de tipos arbitrários. Por exemplo, o comando seguinte associa uma lista à chave `'ana'`."
      ]
    },
    {
      "cell_type": "code",
      "execution_count": 86,
      "metadata": {
        "collapsed": true,
        "id": "NPXPl880h11S"
      },
      "outputs": [],
      "source": [
        "telefones['ana'] = [123, 422]"
      ]
    },
    {
      "cell_type": "code",
      "execution_count": 87,
      "metadata": {
        "id": "Md9ib55ph11S",
        "colab": {
          "base_uri": "https://localhost:8080/"
        },
        "outputId": "2aec6dd6-17f4-411d-d789-6140db5f0044"
      },
      "outputs": [
        {
          "output_type": "execute_result",
          "data": {
            "text/plain": [
              "{'ana': [123, 422], 'beto': 456, 'carlos': 333, 'bento': 543, 'pedro': 7777}"
            ]
          },
          "metadata": {},
          "execution_count": 87
        }
      ],
      "source": [
        "telefones"
      ]
    },
    {
      "cell_type": "code",
      "execution_count": 88,
      "metadata": {
        "id": "cd67wdO5h11T",
        "colab": {
          "base_uri": "https://localhost:8080/"
        },
        "outputId": "a1b53345-ff32-4a40-e910-beea09e1d295"
      },
      "outputs": [
        {
          "output_type": "execute_result",
          "data": {
            "text/plain": [
              "422"
            ]
          },
          "metadata": {},
          "execution_count": 88
        }
      ],
      "source": [
        "telefones['ana'][1]"
      ]
    },
    {
      "cell_type": "code",
      "execution_count": 89,
      "metadata": {
        "id": "N-XEt-r0h11T",
        "colab": {
          "base_uri": "https://localhost:8080/"
        },
        "outputId": "f719edf6-fea2-4c42-fc1a-bd7d354b7b2f"
      },
      "outputs": [
        {
          "output_type": "execute_result",
          "data": {
            "text/plain": [
              "[123, 422]"
            ]
          },
          "metadata": {},
          "execution_count": 89
        }
      ],
      "source": [
        "telefones['ana']"
      ]
    },
    {
      "cell_type": "markdown",
      "metadata": {
        "id": "c-Vm2k0nh11T"
      },
      "source": [
        "### 7.3 Conjuntos"
      ]
    },
    {
      "cell_type": "markdown",
      "metadata": {
        "id": "Wqlg1TwDh11T"
      },
      "source": [
        "Conjuntos são uma simplificação de dicionários que têm apenas chaves (sem valor associado). A vantagem dos conjuntos é que eles têm apenas uma cópia de cada elemento que for colocado neles."
      ]
    },
    {
      "cell_type": "code",
      "execution_count": 90,
      "metadata": {
        "collapsed": true,
        "id": "X8SN4_nyh11U"
      },
      "outputs": [],
      "source": [
        "primeiros_primos = {2, 3, 5, 7, 11, 13}"
      ]
    },
    {
      "cell_type": "code",
      "execution_count": 91,
      "metadata": {
        "collapsed": true,
        "id": "gkX0R55nh11U"
      },
      "outputs": [],
      "source": [
        "primeiros_inteiros = {0, 1, 2, 3, 4, 5}"
      ]
    },
    {
      "cell_type": "markdown",
      "metadata": {
        "id": "5jVe7g5Nh11U"
      },
      "source": [
        "Podemos fazer algumas operações de conjuntos. Por exemplo, verificar se um elementos pertence a um conjunto:"
      ]
    },
    {
      "cell_type": "code",
      "execution_count": 92,
      "metadata": {
        "id": "0Y8cWjwah11U",
        "colab": {
          "base_uri": "https://localhost:8080/"
        },
        "outputId": "30643b43-d9e0-472e-bc3e-9c6889d10e9d"
      },
      "outputs": [
        {
          "output_type": "execute_result",
          "data": {
            "text/plain": [
              "False"
            ]
          },
          "metadata": {},
          "execution_count": 92
        }
      ],
      "source": [
        "9 in primeiros_primos"
      ]
    },
    {
      "cell_type": "code",
      "execution_count": 93,
      "metadata": {
        "scrolled": true,
        "id": "bzHTU9bLh11U",
        "colab": {
          "base_uri": "https://localhost:8080/"
        },
        "outputId": "92162d5a-bf9c-426a-bc06-d0b9f7a15c88"
      },
      "outputs": [
        {
          "output_type": "execute_result",
          "data": {
            "text/plain": [
              "True"
            ]
          },
          "metadata": {},
          "execution_count": 93
        }
      ],
      "source": [
        "4 in primeiros_inteiros"
      ]
    },
    {
      "cell_type": "markdown",
      "metadata": {
        "id": "AdluRZOFh11V"
      },
      "source": [
        "Ou fazer a interseção de dois comjuntos."
      ]
    },
    {
      "cell_type": "code",
      "execution_count": 94,
      "metadata": {
        "id": "uHkn5xIKh11V",
        "colab": {
          "base_uri": "https://localhost:8080/"
        },
        "outputId": "fcaf349a-bdb9-4073-b3d0-d1e3cf935b65"
      },
      "outputs": [
        {
          "output_type": "execute_result",
          "data": {
            "text/plain": [
              "{2, 3, 5}"
            ]
          },
          "metadata": {},
          "execution_count": 94
        }
      ],
      "source": [
        "primeiros_primos & primeiros_inteiros"
      ]
    },
    {
      "cell_type": "markdown",
      "metadata": {
        "id": "NX21XCGXh11V"
      },
      "source": [
        "Ou a união de conjuntos."
      ]
    },
    {
      "cell_type": "code",
      "execution_count": 95,
      "metadata": {
        "id": "_Yxfnb6Sh11V",
        "colab": {
          "base_uri": "https://localhost:8080/"
        },
        "outputId": "9c07f5e8-0a2f-458e-b061-fc51f4503ff7"
      },
      "outputs": [
        {
          "output_type": "execute_result",
          "data": {
            "text/plain": [
              "{0, 1, 2, 3, 4, 5, 7, 11, 13}"
            ]
          },
          "metadata": {},
          "execution_count": 95
        }
      ],
      "source": [
        "primeiros_primos | primeiros_inteiros"
      ]
    },
    {
      "cell_type": "markdown",
      "metadata": {
        "id": "VuwAzQ2mh11V"
      },
      "source": [
        "Ou a diferença de conjuntos."
      ]
    },
    {
      "cell_type": "code",
      "execution_count": 96,
      "metadata": {
        "id": "LyVHYHujh11W",
        "colab": {
          "base_uri": "https://localhost:8080/"
        },
        "outputId": "c640bb22-c6ad-437a-ebe5-b7e9c2b39f6c"
      },
      "outputs": [
        {
          "output_type": "execute_result",
          "data": {
            "text/plain": [
              "{0, 1, 4}"
            ]
          },
          "metadata": {},
          "execution_count": 96
        }
      ],
      "source": [
        "primeiros_inteiros - primeiros_primos"
      ]
    },
    {
      "cell_type": "code",
      "execution_count": 97,
      "metadata": {
        "id": "-0ej_yJTh11W",
        "colab": {
          "base_uri": "https://localhost:8080/"
        },
        "outputId": "c059828c-4b7b-4328-bf77-41a428deceb1"
      },
      "outputs": [
        {
          "output_type": "execute_result",
          "data": {
            "text/plain": [
              "{7, 11, 13}"
            ]
          },
          "metadata": {},
          "execution_count": 97
        }
      ],
      "source": [
        "primeiros_primos - primeiros_inteiros"
      ]
    },
    {
      "cell_type": "markdown",
      "metadata": {
        "id": "NaSb5ANLh11W"
      },
      "source": [
        "Ou verificar se um conjunto é subconjunto de outro (`<` é usado para representar a relação de subconjunto)."
      ]
    },
    {
      "cell_type": "code",
      "execution_count": 98,
      "metadata": {
        "id": "KCLPUdhKh11W",
        "colab": {
          "base_uri": "https://localhost:8080/"
        },
        "outputId": "6ad2fee4-8f0d-4121-8ba6-c1011ea1f945"
      },
      "outputs": [
        {
          "output_type": "execute_result",
          "data": {
            "text/plain": [
              "False"
            ]
          },
          "metadata": {},
          "execution_count": 98
        }
      ],
      "source": [
        "primeiros_primos < primeiros_inteiros"
      ]
    },
    {
      "cell_type": "code",
      "execution_count": 99,
      "metadata": {
        "id": "oZ5i4vRqh11W",
        "colab": {
          "base_uri": "https://localhost:8080/"
        },
        "outputId": "e0f96d2d-7be4-478e-8a9b-9dcd6fc0b32a"
      },
      "outputs": [
        {
          "output_type": "execute_result",
          "data": {
            "text/plain": [
              "True"
            ]
          },
          "metadata": {},
          "execution_count": 99
        }
      ],
      "source": [
        "{1, 2} < primeiros_inteiros"
      ]
    },
    {
      "cell_type": "markdown",
      "metadata": {
        "id": "3e4UDdF-h11X"
      },
      "source": [
        "Se transformamos uma lista em conjunto, todos os valores duplicados são eliminados:"
      ]
    },
    {
      "cell_type": "code",
      "execution_count": 100,
      "metadata": {
        "id": "N597WCK8h11X",
        "colab": {
          "base_uri": "https://localhost:8080/"
        },
        "outputId": "43aa174f-8558-4e36-c058-362e3496615d"
      },
      "outputs": [
        {
          "output_type": "stream",
          "name": "stdout",
          "text": [
            "[1, 2, 3, 4, 5, 2, 3, 4, 5, 3, 4, 5, 4, 5, 5]\n",
            "{1, 2, 3, 4, 5}\n"
          ]
        }
      ],
      "source": [
        "alguns = [1, 2, 3, 4, 5, 2, 3, 4, 5, 3, 4, 5, 4, 5, 5]\n",
        "unicos = set(alguns)\n",
        "print(alguns, unicos, sep='\\n')"
      ]
    },
    {
      "cell_type": "markdown",
      "metadata": {
        "id": "KmaVlDCbh11X"
      },
      "source": [
        "Isso pode ser usado para eliminar duplicados de uma lista:"
      ]
    },
    {
      "cell_type": "code",
      "execution_count": 101,
      "metadata": {
        "id": "FzKpkoTsh11X",
        "colab": {
          "base_uri": "https://localhost:8080/"
        },
        "outputId": "970d9e88-d1d1-40a9-ffc7-048671ff90cd"
      },
      "outputs": [
        {
          "output_type": "execute_result",
          "data": {
            "text/plain": [
              "[1, 2, 3, 4, 5]"
            ]
          },
          "metadata": {},
          "execution_count": 101
        }
      ],
      "source": [
        "so_alguns = list(set(alguns))\n",
        "so_alguns"
      ]
    },
    {
      "cell_type": "markdown",
      "metadata": {
        "id": "vBlmAMdah11X"
      },
      "source": [
        "### 7.4 Tuplas"
      ]
    },
    {
      "cell_type": "markdown",
      "metadata": {
        "id": "b_1VVYnFh11Y"
      },
      "source": [
        "Por fim, tuplas são sequências de valores de um tamanho fixo. Exemplos de tuplas são duplas:"
      ]
    },
    {
      "cell_type": "code",
      "execution_count": 102,
      "metadata": {
        "collapsed": true,
        "id": "aeH7UGWBh11Y"
      },
      "outputs": [],
      "source": [
        "lados = (5, 7)"
      ]
    },
    {
      "cell_type": "markdown",
      "metadata": {
        "id": "J_k_t2JUh11Y"
      },
      "source": [
        "Ou triplas:"
      ]
    },
    {
      "cell_type": "code",
      "execution_count": 103,
      "metadata": {
        "collapsed": true,
        "id": "Kc8PdVRsh11Y"
      },
      "outputs": [],
      "source": [
        "triangulo = (3, 4, 5)"
      ]
    },
    {
      "cell_type": "markdown",
      "metadata": {
        "id": "j9FicKyJh11Y"
      },
      "source": [
        "Os elementos das tuplas podem ser acessados por indexação:"
      ]
    },
    {
      "cell_type": "code",
      "execution_count": 104,
      "metadata": {
        "id": "yzFRufkxh11Z",
        "colab": {
          "base_uri": "https://localhost:8080/"
        },
        "outputId": "fe7ced6c-b32d-418e-99d1-f585a07340bd"
      },
      "outputs": [
        {
          "output_type": "execute_result",
          "data": {
            "text/plain": [
              "5"
            ]
          },
          "metadata": {},
          "execution_count": 104
        }
      ],
      "source": [
        "lados[0]"
      ]
    },
    {
      "cell_type": "markdown",
      "metadata": {
        "id": "7TauXWx8h11Z"
      },
      "source": [
        "Mas, contrariamente a listas, não podemos alterar os elementos referenciados pelas tuplas. Dizemos que as tuplas são **imutáveis**."
      ]
    },
    {
      "cell_type": "code",
      "execution_count": 105,
      "metadata": {
        "id": "2fFSTN0bh11Z",
        "colab": {
          "base_uri": "https://localhost:8080/",
          "height": 141
        },
        "outputId": "4788f70c-8b08-411d-9ef1-a4198fb4adaa"
      },
      "outputs": [
        {
          "output_type": "error",
          "ename": "TypeError",
          "evalue": "'tuple' object does not support item assignment",
          "traceback": [
            "\u001b[0;31m---------------------------------------------------------------------------\u001b[0m",
            "\u001b[0;31mTypeError\u001b[0m                                 Traceback (most recent call last)",
            "\u001b[0;32m<ipython-input-105-65fb83880a6a>\u001b[0m in \u001b[0;36m<cell line: 0>\u001b[0;34m()\u001b[0m\n\u001b[0;32m----> 1\u001b[0;31m \u001b[0mlados\u001b[0m\u001b[0;34m[\u001b[0m\u001b[0;36m0\u001b[0m\u001b[0;34m]\u001b[0m \u001b[0;34m=\u001b[0m \u001b[0;36m4\u001b[0m\u001b[0;34m\u001b[0m\u001b[0;34m\u001b[0m\u001b[0m\n\u001b[0m",
            "\u001b[0;31mTypeError\u001b[0m: 'tuple' object does not support item assignment"
          ]
        }
      ],
      "source": [
        "lados[0] = 4"
      ]
    },
    {
      "cell_type": "markdown",
      "metadata": {
        "id": "3XO4-c5Gh11Z"
      },
      "source": [
        "## 8 Funções"
      ]
    },
    {
      "cell_type": "markdown",
      "metadata": {
        "id": "PccULthzh11Z"
      },
      "source": [
        "Novas funções podem ser definidas usando o comando `def`, seguido do nome da função e da lista de argumentos. Os argumentos, como tradicional em Python, não precisam indicar seus tipos.\n",
        "\n",
        "A função executa até terminar o bloco ou encontrar um `return`. O `return` especifica o valor a ser retornado pela função."
      ]
    },
    {
      "cell_type": "code",
      "execution_count": 116,
      "metadata": {
        "collapsed": true,
        "id": "P6BP0bNJh11a"
      },
      "outputs": [],
      "source": [
        "def poli_1(x):\n",
        "    return 2*x**2 - 5 * x + 8"
      ]
    },
    {
      "cell_type": "code",
      "execution_count": 117,
      "metadata": {
        "id": "nfL-qTN7h11a",
        "colab": {
          "base_uri": "https://localhost:8080/"
        },
        "outputId": "10314734-f7d7-4feb-909b-32d35ad81b09"
      },
      "outputs": [
        {
          "output_type": "execute_result",
          "data": {
            "text/plain": [
              "8.0"
            ]
          },
          "metadata": {},
          "execution_count": 117
        }
      ],
      "source": [
        "poli_1(2.5)"
      ]
    },
    {
      "cell_type": "code",
      "execution_count": 108,
      "metadata": {
        "collapsed": true,
        "id": "a0Provvoh11a"
      },
      "outputs": [],
      "source": [
        "def contagem(n):\n",
        "    while n > 0:\n",
        "        print(n)\n",
        "        n -= 1\n",
        "    print('Acabou')"
      ]
    },
    {
      "cell_type": "code",
      "execution_count": 109,
      "metadata": {
        "id": "rj2UTbvNh11a",
        "colab": {
          "base_uri": "https://localhost:8080/"
        },
        "outputId": "c26aa568-b846-4aa4-e46e-5a88d7252475"
      },
      "outputs": [
        {
          "output_type": "stream",
          "name": "stdout",
          "text": [
            "5\n",
            "4\n",
            "3\n",
            "2\n",
            "1\n",
            "Acabou\n"
          ]
        }
      ],
      "source": [
        "contagem(5)"
      ]
    },
    {
      "cell_type": "code",
      "execution_count": 110,
      "metadata": {
        "collapsed": true,
        "id": "8kAfgh1Fh11b"
      },
      "outputs": [],
      "source": [
        "def H(n):\n",
        "    s = 0.0\n",
        "    for i in range(1, n+1):\n",
        "        s += 1 / i\n",
        "    return s"
      ]
    },
    {
      "cell_type": "code",
      "execution_count": 111,
      "metadata": {
        "id": "ukZlmcoGh11b",
        "colab": {
          "base_uri": "https://localhost:8080/"
        },
        "outputId": "c567a00b-b293-4f6f-ec1c-43ecb371d897"
      },
      "outputs": [
        {
          "output_type": "execute_result",
          "data": {
            "text/plain": [
              "1.8333333333333333"
            ]
          },
          "metadata": {},
          "execution_count": 111
        }
      ],
      "source": [
        "H(3)"
      ]
    },
    {
      "cell_type": "code",
      "execution_count": 112,
      "metadata": {
        "id": "4uqZoEFqh11b",
        "colab": {
          "base_uri": "https://localhost:8080/"
        },
        "outputId": "108cb021-25ea-4431-8a29-805573830fa8"
      },
      "outputs": [
        {
          "output_type": "execute_result",
          "data": {
            "text/plain": [
              "7.485470860550343"
            ]
          },
          "metadata": {},
          "execution_count": 112
        }
      ],
      "source": [
        "H(1000)"
      ]
    },
    {
      "cell_type": "code",
      "execution_count": 113,
      "metadata": {
        "id": "TgsyGK6-h11b",
        "colab": {
          "base_uri": "https://localhost:8080/"
        },
        "outputId": "01770417-d643-4f15-9599-9a500a2d74b7"
      },
      "outputs": [
        {
          "output_type": "execute_result",
          "data": {
            "text/plain": [
              "14.392726722864989"
            ]
          },
          "metadata": {},
          "execution_count": 113
        }
      ],
      "source": [
        "H(1000000)"
      ]
    },
    {
      "cell_type": "code",
      "source": [
        "# Defina uma função que calcula a área de um retângulo:\n",
        "def calcular_area_retangulo(base,altura):\n",
        "  return base*altura\n",
        "# uso:\n",
        "base = 5\n",
        "altura = 10\n",
        "area = calcular_area_retangulo(base,altura)\n",
        "print(f\"A área do retângulo é de: {area}\")"
      ],
      "metadata": {
        "id": "QUREVP6OvW66",
        "colab": {
          "base_uri": "https://localhost:8080/"
        },
        "outputId": "3eb491f1-1404-4024-c807-a7f2d0017ee9"
      },
      "execution_count": 123,
      "outputs": [
        {
          "output_type": "stream",
          "name": "stdout",
          "text": [
            "A área do retângulo é de: 50\n"
          ]
        }
      ]
    },
    {
      "cell_type": "code",
      "source": [
        "# Usa a função definida para calcular a área de um retângulo cujo:\n",
        "# 1) um tamanho de um dos lados seja os primeiros dígitos da sua matrícula\n",
        "# 2) o outro tamanho seja o valor dos últimos dígitos da sua matrícula\n",
        "\n",
        "def calcular_area_retangulo_ex(base2,altura2):\n",
        "  return base2*altura2\n",
        "\n",
        "# uso:\n",
        "base2 = 20\n",
        "altura2 = 33\n",
        "area2 = calcular_area_retangulo_ex(base2,altura2)\n",
        "print(f\"A área do retângulo é de: {area2} \")"
      ],
      "metadata": {
        "id": "Z4PjWYj9vcTu",
        "colab": {
          "base_uri": "https://localhost:8080/"
        },
        "outputId": "4d81e39a-2d9c-4763-90f0-f9d1a0121ffe"
      },
      "execution_count": 135,
      "outputs": [
        {
          "output_type": "stream",
          "name": "stdout",
          "text": [
            "A área do retângulo é de: 660 \n"
          ]
        }
      ]
    },
    {
      "cell_type": "markdown",
      "metadata": {
        "id": "mR0vZrHyh11c"
      },
      "source": [
        "## 9 Cadeias de caracteres"
      ]
    },
    {
      "cell_type": "markdown",
      "metadata": {
        "id": "aFwHGfklh11c"
      },
      "source": [
        "Cadeias de caracteres podem ser criadas delimitadas por `\"` ou `'`. Tanto faz o delimitador usado, desde que o usado para o fechamento seja o mesmo usado para a abertura."
      ]
    },
    {
      "cell_type": "code",
      "execution_count": 136,
      "metadata": {
        "collapsed": true,
        "id": "tO5jLyNOh11c"
      },
      "outputs": [],
      "source": [
        "nome = 'Inteligência Artificial'"
      ]
    },
    {
      "cell_type": "code",
      "execution_count": 137,
      "metadata": {
        "collapsed": true,
        "id": "tuS5IHtEh11c"
      },
      "outputs": [],
      "source": [
        "codigo = \"7600033\""
      ]
    },
    {
      "cell_type": "code",
      "execution_count": 138,
      "metadata": {
        "collapsed": true,
        "id": "dsGuvJ8jh11c"
      },
      "outputs": [],
      "source": [
        "potus = 'Mickey Mouse da Silva Sauro'"
      ]
    },
    {
      "cell_type": "code",
      "execution_count": 139,
      "metadata": {
        "id": "IbH8fVMHh11c",
        "colab": {
          "base_uri": "https://localhost:8080/"
        },
        "outputId": "a9d3c74c-21ba-4123-981e-ea338b5d669d"
      },
      "outputs": [
        {
          "output_type": "stream",
          "name": "stdout",
          "text": [
            "Mickey Mouse da Silva Sauro\n"
          ]
        }
      ],
      "source": [
        "print(potus)"
      ]
    },
    {
      "cell_type": "markdown",
      "metadata": {
        "id": "_fCWKp3Bh11d"
      },
      "source": [
        "Cadeias podem ser indexadas da mesma forma que listas."
      ]
    },
    {
      "cell_type": "code",
      "execution_count": 140,
      "metadata": {
        "id": "DRvTCaxsh11d",
        "colab": {
          "base_uri": "https://localhost:8080/",
          "height": 35
        },
        "outputId": "794092c3-4cea-4ae4-e4b9-bf6f386bd30d"
      },
      "outputs": [
        {
          "output_type": "execute_result",
          "data": {
            "text/plain": [
              "'i'"
            ],
            "application/vnd.google.colaboratory.intrinsic+json": {
              "type": "string"
            }
          },
          "metadata": {},
          "execution_count": 140
        }
      ],
      "source": [
        "nome[10]"
      ]
    },
    {
      "cell_type": "markdown",
      "metadata": {
        "id": "J2vFE9hzh11d"
      },
      "source": [
        "Outra forma de indexar (também válida em listas) é através de *slices*. Um slice é representado por\n",
        "\n",
        "    inicio:final:passo\n",
        "\n",
        "e indica um conjunto de índices, com significado similar ao de `range`. Podemos omitir qualquer dos três elementos. Se `passo` é omitido, ele é assumido 1. se `inicio` é omitido, é assumido 0 e se  `final` é omitido, é assumido que pegamos tudo até o final da cadeia."
      ]
    },
    {
      "cell_type": "code",
      "execution_count": 141,
      "metadata": {
        "id": "TTrW5i9qh11d",
        "colab": {
          "base_uri": "https://localhost:8080/",
          "height": 35
        },
        "outputId": "f18513b2-c50d-484f-9494-2a70988d6d90"
      },
      "outputs": [
        {
          "output_type": "execute_result",
          "data": {
            "text/plain": [
              "'Inteligê'"
            ],
            "application/vnd.google.colaboratory.intrinsic+json": {
              "type": "string"
            }
          },
          "metadata": {},
          "execution_count": 141
        }
      ],
      "source": [
        "nome[0:8]"
      ]
    },
    {
      "cell_type": "code",
      "execution_count": 142,
      "metadata": {
        "id": "GWvAFXGFh11d",
        "colab": {
          "base_uri": "https://localhost:8080/",
          "height": 35
        },
        "outputId": "6c6f79b5-4538-456e-cd1a-6513173c17be"
      },
      "outputs": [
        {
          "output_type": "execute_result",
          "data": {
            "text/plain": [
              "'Inteligê'"
            ],
            "application/vnd.google.colaboratory.intrinsic+json": {
              "type": "string"
            }
          },
          "metadata": {},
          "execution_count": 142
        }
      ],
      "source": [
        "nome[:8]"
      ]
    },
    {
      "cell_type": "code",
      "execution_count": 143,
      "metadata": {
        "id": "audlQAs_h11d",
        "colab": {
          "base_uri": "https://localhost:8080/",
          "height": 35
        },
        "outputId": "e8da6300-b4c1-4031-9228-b862d57c0c3d"
      },
      "outputs": [
        {
          "output_type": "execute_result",
          "data": {
            "text/plain": [
              "'icial'"
            ],
            "application/vnd.google.colaboratory.intrinsic+json": {
              "type": "string"
            }
          },
          "metadata": {},
          "execution_count": 143
        }
      ],
      "source": [
        "nome[18:]"
      ]
    },
    {
      "cell_type": "code",
      "execution_count": 144,
      "metadata": {
        "id": "YSvJ-5uPh11e",
        "colab": {
          "base_uri": "https://localhost:8080/",
          "height": 35
        },
        "outputId": "42eff3cb-12df-4ea1-993b-ef3bc94eeac3"
      },
      "outputs": [
        {
          "output_type": "execute_result",
          "data": {
            "text/plain": [
              "'Inteligência Artificial'"
            ],
            "application/vnd.google.colaboratory.intrinsic+json": {
              "type": "string"
            }
          },
          "metadata": {},
          "execution_count": 144
        }
      ],
      "source": [
        "nome"
      ]
    },
    {
      "cell_type": "code",
      "execution_count": 145,
      "metadata": {
        "id": "6tB2-vV0h11e",
        "colab": {
          "base_uri": "https://localhost:8080/",
          "height": 35
        },
        "outputId": "80d0dff7-3256-4810-dd25-96e73328cb35"
      },
      "outputs": [
        {
          "output_type": "execute_result",
          "data": {
            "text/plain": [
              "'I'"
            ],
            "application/vnd.google.colaboratory.intrinsic+json": {
              "type": "string"
            }
          },
          "metadata": {},
          "execution_count": 145
        }
      ],
      "source": [
        "nome[0]"
      ]
    },
    {
      "cell_type": "code",
      "execution_count": 146,
      "metadata": {
        "id": "khAQDXuRh11e",
        "colab": {
          "base_uri": "https://localhost:8080/",
          "height": 35
        },
        "outputId": "5765c608-5fd5-41ad-c394-a924ac6b65e8"
      },
      "outputs": [
        {
          "output_type": "execute_result",
          "data": {
            "text/plain": [
              "'n'"
            ],
            "application/vnd.google.colaboratory.intrinsic+json": {
              "type": "string"
            }
          },
          "metadata": {},
          "execution_count": 146
        }
      ],
      "source": [
        "nome[1]"
      ]
    },
    {
      "cell_type": "code",
      "execution_count": 147,
      "metadata": {
        "id": "-qSmcZM4h11e",
        "colab": {
          "base_uri": "https://localhost:8080/",
          "height": 35
        },
        "outputId": "fe12cfec-495d-4074-84d3-5dce6221d96e"
      },
      "outputs": [
        {
          "output_type": "execute_result",
          "data": {
            "text/plain": [
              "'l'"
            ],
            "application/vnd.google.colaboratory.intrinsic+json": {
              "type": "string"
            }
          },
          "metadata": {},
          "execution_count": 147
        }
      ],
      "source": [
        "nome[-1]"
      ]
    },
    {
      "cell_type": "code",
      "execution_count": 148,
      "metadata": {
        "id": "bTFTv2hAh11e",
        "colab": {
          "base_uri": "https://localhost:8080/",
          "height": 35
        },
        "outputId": "f60827aa-2f68-4495-c268-a72bf0806c49"
      },
      "outputs": [
        {
          "output_type": "execute_result",
          "data": {
            "text/plain": [
              "'a'"
            ],
            "application/vnd.google.colaboratory.intrinsic+json": {
              "type": "string"
            }
          },
          "metadata": {},
          "execution_count": 148
        }
      ],
      "source": [
        "nome[-2]"
      ]
    },
    {
      "cell_type": "markdown",
      "metadata": {
        "id": "Ghbz7C83h11f"
      },
      "source": [
        "A indexação é por caracteres UTF-8 (o padrão no Python), e não por bytes."
      ]
    },
    {
      "cell_type": "code",
      "execution_count": 149,
      "metadata": {
        "id": "A5ud4d8oh11f",
        "colab": {
          "base_uri": "https://localhost:8080/",
          "height": 35
        },
        "outputId": "9ca27f67-2822-42f6-f688-0a4eaf551fd3"
      },
      "outputs": [
        {
          "output_type": "execute_result",
          "data": {
            "text/plain": [
              "'e'"
            ],
            "application/vnd.google.colaboratory.intrinsic+json": {
              "type": "string"
            }
          },
          "metadata": {},
          "execution_count": 149
        }
      ],
      "source": [
        "nome[3]"
      ]
    },
    {
      "cell_type": "code",
      "execution_count": 150,
      "metadata": {
        "id": "OlnTKBY3h11f",
        "colab": {
          "base_uri": "https://localhost:8080/",
          "height": 35
        },
        "outputId": "a84c11d1-07f3-41a4-c1ed-8bdf1ee5709e"
      },
      "outputs": [
        {
          "output_type": "execute_result",
          "data": {
            "text/plain": [
              "'l'"
            ],
            "application/vnd.google.colaboratory.intrinsic+json": {
              "type": "string"
            }
          },
          "metadata": {},
          "execution_count": 150
        }
      ],
      "source": [
        "nome[4]"
      ]
    },
    {
      "cell_type": "code",
      "execution_count": 151,
      "metadata": {
        "id": "AXaShSWRh11f",
        "colab": {
          "base_uri": "https://localhost:8080/",
          "height": 35
        },
        "outputId": "6f3b58b9-6154-4928-cff8-b77130ef5075"
      },
      "outputs": [
        {
          "output_type": "execute_result",
          "data": {
            "text/plain": [
              "'eligência Artific'"
            ],
            "application/vnd.google.colaboratory.intrinsic+json": {
              "type": "string"
            }
          },
          "metadata": {},
          "execution_count": 151
        }
      ],
      "source": [
        "nome[3:-3]"
      ]
    },
    {
      "cell_type": "code",
      "execution_count": 152,
      "metadata": {
        "id": "5FYj-gi0h11f",
        "colab": {
          "base_uri": "https://localhost:8080/",
          "height": 35
        },
        "outputId": "7e4af503-799c-41fa-bffe-478f6b32d0f6"
      },
      "outputs": [
        {
          "output_type": "execute_result",
          "data": {
            "text/plain": [
              "'eiêcaAtfc'"
            ],
            "application/vnd.google.colaboratory.intrinsic+json": {
              "type": "string"
            }
          },
          "metadata": {},
          "execution_count": 152
        }
      ],
      "source": [
        "nome[3:-3:2]"
      ]
    },
    {
      "cell_type": "markdown",
      "metadata": {
        "id": "AN_N231uh11f"
      },
      "source": [
        "Um método útil de cadeias de caracteres é o método `strip`, que elimina todos os espaços em branco no começo e no final de uma cadeia. Temos também o `rstrip` que limpa apenas o final e o `lstrip` que limpa apenas o começo."
      ]
    },
    {
      "cell_type": "code",
      "execution_count": 153,
      "metadata": {
        "collapsed": true,
        "id": "bAMpgqtbh11g"
      },
      "outputs": [],
      "source": [
        "linha = '    Primeiro 10 143.2      '"
      ]
    },
    {
      "cell_type": "code",
      "execution_count": 154,
      "metadata": {
        "id": "Pgo-QViCh11g",
        "colab": {
          "base_uri": "https://localhost:8080/",
          "height": 35
        },
        "outputId": "8255c7b6-7b21-40b0-abdf-9cf369c83f12"
      },
      "outputs": [
        {
          "output_type": "execute_result",
          "data": {
            "text/plain": [
              "'Primeiro 10 143.2'"
            ],
            "application/vnd.google.colaboratory.intrinsic+json": {
              "type": "string"
            }
          },
          "metadata": {},
          "execution_count": 154
        }
      ],
      "source": [
        "linha.strip()"
      ]
    },
    {
      "cell_type": "code",
      "execution_count": 155,
      "metadata": {
        "id": "WTCYFZf_h11g",
        "colab": {
          "base_uri": "https://localhost:8080/",
          "height": 35
        },
        "outputId": "15d73c53-7478-4d4c-ac0b-4195885a3edd"
      },
      "outputs": [
        {
          "output_type": "execute_result",
          "data": {
            "text/plain": [
              "'    Primeiro 10 143.2'"
            ],
            "application/vnd.google.colaboratory.intrinsic+json": {
              "type": "string"
            }
          },
          "metadata": {},
          "execution_count": 155
        }
      ],
      "source": [
        "linha.rstrip()"
      ]
    },
    {
      "cell_type": "code",
      "execution_count": 156,
      "metadata": {
        "id": "9SeQGSVFh11g",
        "colab": {
          "base_uri": "https://localhost:8080/",
          "height": 35
        },
        "outputId": "c950981d-e505-4c4e-9938-bb05e630262f"
      },
      "outputs": [
        {
          "output_type": "execute_result",
          "data": {
            "text/plain": [
              "'Primeiro 10 143.2      '"
            ],
            "application/vnd.google.colaboratory.intrinsic+json": {
              "type": "string"
            }
          },
          "metadata": {},
          "execution_count": 156
        }
      ],
      "source": [
        "linha.lstrip()"
      ]
    },
    {
      "cell_type": "markdown",
      "metadata": {
        "id": "KPjVsewbh11g"
      },
      "source": [
        "Como se percebe acima, os métodos devolvem uma nova cadeia, deixando a cadeia original intacta.\n",
        "\n",
        "Outro método útil é o `split`, que permite quebrar a cadeia em uma lista de subcadeias de acordo com um separador. Se o separador não é especificado, separa-se por espaços em branco (espaços consecutivos são considerados um separador, e mudanças de linha e tabulações contam como espaços)."
      ]
    },
    {
      "cell_type": "code",
      "execution_count": 157,
      "metadata": {
        "id": "SLLU6kl3h11g",
        "colab": {
          "base_uri": "https://localhost:8080/"
        },
        "outputId": "7d8add5b-8662-4495-847d-bc8fe68ac57c"
      },
      "outputs": [
        {
          "output_type": "execute_result",
          "data": {
            "text/plain": [
              "['Primeiro', '10', '143.2']"
            ]
          },
          "metadata": {},
          "execution_count": 157
        }
      ],
      "source": [
        "linha.split()"
      ]
    },
    {
      "cell_type": "code",
      "execution_count": 158,
      "metadata": {
        "id": "j2doGCnth11h",
        "colab": {
          "base_uri": "https://localhost:8080/"
        },
        "outputId": "a0d51639-f040-446f-97a9-5504a9ba0b65"
      },
      "outputs": [
        {
          "output_type": "execute_result",
          "data": {
            "text/plain": [
              "['    Primeiro ', ' 143.2      ']"
            ]
          },
          "metadata": {},
          "execution_count": 158
        }
      ],
      "source": [
        "linha.split('10')"
      ]
    },
    {
      "cell_type": "code",
      "execution_count": 159,
      "metadata": {
        "collapsed": true,
        "id": "rnuPiUE2h11h",
        "colab": {
          "base_uri": "https://localhost:8080/"
        },
        "outputId": "c37425d0-4e91-488e-ba3b-efdbfd38d3ea"
      },
      "outputs": [
        {
          "output_type": "execute_result",
          "data": {
            "text/plain": [
              "['', '', '', '', 'Primeiro', '10', '143.2', '', '', '', '', '', '']"
            ]
          },
          "metadata": {},
          "execution_count": 159
        }
      ],
      "source": [
        "linha.split(' ')"
      ]
    },
    {
      "cell_type": "markdown",
      "metadata": {
        "id": "mRqOdtgth11h"
      },
      "source": [
        "A operação oposta ao `split` é feita pelo método `join`."
      ]
    },
    {
      "cell_type": "code",
      "execution_count": 160,
      "metadata": {
        "collapsed": true,
        "id": "udi4aASAh11h"
      },
      "outputs": [],
      "source": [
        "palavras = linha.split()"
      ]
    },
    {
      "cell_type": "code",
      "execution_count": 161,
      "metadata": {
        "id": "N7-FSk1vh11h",
        "colab": {
          "base_uri": "https://localhost:8080/"
        },
        "outputId": "14880062-34d9-4d8a-9b96-382edf2e5a2e"
      },
      "outputs": [
        {
          "output_type": "execute_result",
          "data": {
            "text/plain": [
              "['Primeiro', '10', '143.2']"
            ]
          },
          "metadata": {},
          "execution_count": 161
        }
      ],
      "source": [
        "palavras"
      ]
    },
    {
      "cell_type": "code",
      "execution_count": 162,
      "metadata": {
        "id": "0fTo4Byih11h",
        "colab": {
          "base_uri": "https://localhost:8080/",
          "height": 35
        },
        "outputId": "15452fde-aceb-4a83-d755-8ba0c027cdd1"
      },
      "outputs": [
        {
          "output_type": "execute_result",
          "data": {
            "text/plain": [
              "'Primeiro 10 143.2'"
            ],
            "application/vnd.google.colaboratory.intrinsic+json": {
              "type": "string"
            }
          },
          "metadata": {},
          "execution_count": 162
        }
      ],
      "source": [
        "' '.join(palavras)"
      ]
    },
    {
      "cell_type": "code",
      "execution_count": 163,
      "metadata": {
        "id": "2h8oVur7h11i",
        "colab": {
          "base_uri": "https://localhost:8080/",
          "height": 35
        },
        "outputId": "754355c8-20be-4cc7-f778-88bda07d1f0e"
      },
      "outputs": [
        {
          "output_type": "execute_result",
          "data": {
            "text/plain": [
              "'Primeiro, 10, 143.2'"
            ],
            "application/vnd.google.colaboratory.intrinsic+json": {
              "type": "string"
            }
          },
          "metadata": {},
          "execution_count": 163
        }
      ],
      "source": [
        "', '.join(palavras)"
      ]
    },
    {
      "cell_type": "markdown",
      "metadata": {
        "id": "rcrRxgDRh11i"
      },
      "source": [
        "## 10 Arquivos"
      ]
    },
    {
      "cell_type": "markdown",
      "metadata": {
        "id": "-IK1VLm2h11i"
      },
      "source": [
        "Arquivos podem ser abertos para leitura pela função `open`. Após isso, podemos ler seu conteúdo usando diversos métodos, como o `read` (que lê todo o arquivo como uma cadeia única) ou o `readlines` que lê uma linha por vêz como uma cadeia, retornando uma lista com todas as linhas.\n",
        "\n",
        "Quando não precisamos mais do arquivo, devemos fechá-lo com o método `close`."
      ]
    },
    {
      "cell_type": "markdown",
      "source": [
        "**Atenção** Para este código funcionar você deverá carregar um arquivo com qualque texto chamado _teste.txt_ no seu google colab. Preste atenção ao diretório que ele se encontra."
      ],
      "metadata": {
        "id": "31g-ZW20wECN"
      }
    },
    {
      "cell_type": "code",
      "source": [
        "nome_arquivo = \"/content/teste.txt\""
      ],
      "metadata": {
        "id": "hGAVvSD7wQIg"
      },
      "execution_count": 180,
      "outputs": []
    },
    {
      "cell_type": "code",
      "execution_count": 183,
      "metadata": {
        "collapsed": true,
        "id": "RhRwNaoXh11i"
      },
      "outputs": [],
      "source": [
        "arq = open(\"teste.txt\")"
      ]
    },
    {
      "cell_type": "code",
      "execution_count": 184,
      "metadata": {
        "collapsed": true,
        "id": "gtCyL8pIh11i"
      },
      "outputs": [],
      "source": [
        "tudo = arq.read()"
      ]
    },
    {
      "cell_type": "code",
      "execution_count": 185,
      "metadata": {
        "id": "i8fT0PLQh11j",
        "colab": {
          "base_uri": "https://localhost:8080/",
          "height": 174
        },
        "outputId": "1a76e675-ec08-4309-f9e4-36810ce4ecb7"
      },
      "outputs": [
        {
          "output_type": "execute_result",
          "data": {
            "text/plain": [
              "'CONVERSA COM O PROFESSOR\\n\\n1 - SABER QUAL TIPO DE AVALIAÇÃO ELE USA\\n\\n2 - SABER QUAIS SÃO AS REFERÊNCIAS QUE ELE USA\\n\\n3 - SABER SE ELE INFORMA AOS ALUNOS OS PROCEDIMENTOS DA AVALIAÇÃO\\n\\n4 - SABER SE ELE APRESENTA E DISCUTE O ASSUNTO DA AVALIAÇÃO ANTES DA PROVA\\n\\n5 - SABER SE ELE USA A AVALIAÇÃO COM FIM EDUCATIVO OU APENAS DO RESULTADO DAS NOTAS\\n\\n6 - SABER SE ELE EXPLICA EM SALA DE AULA DE UMA FORMA GERAL O RESULTADO DA AVALIAÇÃO OU PREFERE CONVERSAR COM CADA AULA\\n\\n7 - SABER SE O PROFESSOR TEM UMA ATENÃO MAIS CUIDADOSA PARA QUEM TEM DIFICULDADE NA APREDIZAGEM DOS CONTEÚDOS\\n\\n8 - SABER SE O PROFSSOR É ÉTICO NA AVALIAÇÃO E RESULTADO DAS PROVA.\\n\\n9 - SABER SE O PROFESSOR AVISA COM ANTECEDÊNCIA O DIA DA AVALIAÇÃO\\n\\n10 - SABER SE O PROFESSOR DIVULGA O RESULTADO DA AVALIAÇÃO DE MANIERA INDIVIDUAL OU PUBLICA NO MURAL DA ESCOLA\\n\\nCONVERSA COM O ALUNO (A)\\n\\n1 - SABER SE O PROFESSOR AVISA COM ANTECEDENCIA O DIA DA AVALIAÇÃO\\n\\n2 - SABER SE O PROFESSOR FAZ A AVALIAÇÃO USANDO OS MESMO CONTEÚDOS OU FAZ A AVALIAÇÃO USANDO CONTEÚDOS QUE NÃO FORAM DADOS EM SALA DE AULA\\n\\n3 - SABER SE O PROFESSOR NÃO EXMPÕE O ALUNO QUE NÃO TEVE UMA BOA NOTA\\n\\n4- SABER SE O PROFESSOR É JUSTO E ÉTICO NO PROCESSO AVALIATIVO\\n\\n5 - SABER SE (no caso o aluno entrevista) SE O ALUNO SE SENTIU CONSTRANGIDO NO PROCESSO AVALIATIVO\\n\\n6 - SABER SE O PROFESSOR TIRA AS DÚVIDAS DO ALUNO SOBRE O RESULTADO DA AVALIAÇÃO\\n'"
            ],
            "application/vnd.google.colaboratory.intrinsic+json": {
              "type": "string"
            }
          },
          "metadata": {},
          "execution_count": 185
        }
      ],
      "source": [
        "tudo"
      ]
    },
    {
      "cell_type": "code",
      "execution_count": 186,
      "metadata": {
        "collapsed": true,
        "id": "JlONoOO_h11j"
      },
      "outputs": [],
      "source": [
        "arq.close()"
      ]
    },
    {
      "cell_type": "markdown",
      "metadata": {
        "id": "afyBsDnxh11j"
      },
      "source": [
        "Quando usamos `open` com apenas o nome do arquivo, como acima, o arquivo é aberto para leitura, pois essa chamada é equivalente a especificar um segundo parâmetro `'r'`, como abaixo."
      ]
    },
    {
      "cell_type": "code",
      "execution_count": 187,
      "metadata": {
        "collapsed": true,
        "id": "iBSzzpHuh11k"
      },
      "outputs": [],
      "source": [
        "arq = open(nome_arquivo, 'r')"
      ]
    },
    {
      "cell_type": "code",
      "execution_count": 188,
      "metadata": {
        "id": "Sq_7gCFQh11k",
        "colab": {
          "base_uri": "https://localhost:8080/"
        },
        "outputId": "3205fb55-7aa2-407a-8cdf-30ea822b61d8"
      },
      "outputs": [
        {
          "output_type": "stream",
          "name": "stdout",
          "text": [
            "Esta é a linha: CONVERSA COM O PROFESSOR\n",
            "\n",
            "Esta é a linha: \n",
            "\n",
            "Esta é a linha: 1 - SABER QUAL TIPO DE AVALIAÇÃO ELE USA\n",
            "\n",
            "Esta é a linha: \n",
            "\n",
            "Esta é a linha: 2 - SABER QUAIS SÃO AS REFERÊNCIAS QUE ELE USA\n",
            "\n",
            "Esta é a linha: \n",
            "\n",
            "Esta é a linha: 3 - SABER SE ELE INFORMA AOS ALUNOS OS PROCEDIMENTOS DA AVALIAÇÃO\n",
            "\n",
            "Esta é a linha: \n",
            "\n",
            "Esta é a linha: 4 - SABER SE ELE APRESENTA E DISCUTE O ASSUNTO DA AVALIAÇÃO ANTES DA PROVA\n",
            "\n",
            "Esta é a linha: \n",
            "\n",
            "Esta é a linha: 5 - SABER SE ELE USA A AVALIAÇÃO COM FIM EDUCATIVO OU APENAS DO RESULTADO DAS NOTAS\n",
            "\n",
            "Esta é a linha: \n",
            "\n",
            "Esta é a linha: 6 - SABER SE ELE EXPLICA EM SALA DE AULA DE UMA FORMA GERAL O RESULTADO DA AVALIAÇÃO OU PREFERE CONVERSAR COM CADA AULA\n",
            "\n",
            "Esta é a linha: \n",
            "\n",
            "Esta é a linha: 7 - SABER SE O PROFESSOR TEM UMA ATENÃO MAIS CUIDADOSA PARA QUEM TEM DIFICULDADE NA APREDIZAGEM DOS CONTEÚDOS\n",
            "\n",
            "Esta é a linha: \n",
            "\n",
            "Esta é a linha: 8 - SABER SE O PROFSSOR É ÉTICO NA AVALIAÇÃO E RESULTADO DAS PROVA.\n",
            "\n",
            "Esta é a linha: \n",
            "\n",
            "Esta é a linha: 9 - SABER SE O PROFESSOR AVISA COM ANTECEDÊNCIA O DIA DA AVALIAÇÃO\n",
            "\n",
            "Esta é a linha: \n",
            "\n",
            "Esta é a linha: 10 - SABER SE O PROFESSOR DIVULGA O RESULTADO DA AVALIAÇÃO DE MANIERA INDIVIDUAL OU PUBLICA NO MURAL DA ESCOLA\n",
            "\n",
            "Esta é a linha: \n",
            "\n",
            "Esta é a linha: CONVERSA COM O ALUNO (A)\n",
            "\n",
            "Esta é a linha: \n",
            "\n",
            "Esta é a linha: 1 - SABER SE O PROFESSOR AVISA COM ANTECEDENCIA O DIA DA AVALIAÇÃO\n",
            "\n",
            "Esta é a linha: \n",
            "\n",
            "Esta é a linha: 2 - SABER SE O PROFESSOR FAZ A AVALIAÇÃO USANDO OS MESMO CONTEÚDOS OU FAZ A AVALIAÇÃO USANDO CONTEÚDOS QUE NÃO FORAM DADOS EM SALA DE AULA\n",
            "\n",
            "Esta é a linha: \n",
            "\n",
            "Esta é a linha: 3 - SABER SE O PROFESSOR NÃO EXMPÕE O ALUNO QUE NÃO TEVE UMA BOA NOTA\n",
            "\n",
            "Esta é a linha: \n",
            "\n",
            "Esta é a linha: 4- SABER SE O PROFESSOR É JUSTO E ÉTICO NO PROCESSO AVALIATIVO\n",
            "\n",
            "Esta é a linha: \n",
            "\n",
            "Esta é a linha: 5 - SABER SE (no caso o aluno entrevista) SE O ALUNO SE SENTIU CONSTRANGIDO NO PROCESSO AVALIATIVO\n",
            "\n",
            "Esta é a linha: \n",
            "\n",
            "Esta é a linha: 6 - SABER SE O PROFESSOR TIRA AS DÚVIDAS DO ALUNO SOBRE O RESULTADO DA AVALIAÇÃO\n",
            "\n"
          ]
        }
      ],
      "source": [
        "for linha_arq in arq.readlines():\n",
        "    print('Esta é a linha:', linha_arq)"
      ]
    },
    {
      "cell_type": "code",
      "execution_count": 189,
      "metadata": {
        "collapsed": true,
        "id": "N9_Tevovh11k"
      },
      "outputs": [],
      "source": [
        "arq.close()"
      ]
    },
    {
      "cell_type": "markdown",
      "metadata": {
        "id": "syAQ4zYqh11k"
      },
      "source": [
        "Na verdade, o uso explícito de `close` não é recomendado em diversos casos, devido a possíveis problemas com situações de erro. A forma recomendada de lidar com arquivos (entre outros casos similares) é através do uso do comando `with`, como no código abaixo:"
      ]
    },
    {
      "cell_type": "code",
      "execution_count": 190,
      "metadata": {
        "id": "SbweYfjkh11k",
        "colab": {
          "base_uri": "https://localhost:8080/"
        },
        "outputId": "b5877bb4-e776-4d7f-e86e-881f76fb3764"
      },
      "outputs": [
        {
          "output_type": "stream",
          "name": "stdout",
          "text": [
            "Esta é a linha 0 => CONVERSA COM O PROFESSOR\n",
            "\n",
            "Esta é a linha 1 => \n",
            "\n",
            "Esta é a linha 2 => 1 - SABER QUAL TIPO DE AVALIAÇÃO ELE USA\n",
            "\n",
            "Esta é a linha 3 => \n",
            "\n",
            "Esta é a linha 4 => 2 - SABER QUAIS SÃO AS REFERÊNCIAS QUE ELE USA\n",
            "\n",
            "Esta é a linha 5 => \n",
            "\n",
            "Esta é a linha 6 => 3 - SABER SE ELE INFORMA AOS ALUNOS OS PROCEDIMENTOS DA AVALIAÇÃO\n",
            "\n",
            "Esta é a linha 7 => \n",
            "\n",
            "Esta é a linha 8 => 4 - SABER SE ELE APRESENTA E DISCUTE O ASSUNTO DA AVALIAÇÃO ANTES DA PROVA\n",
            "\n",
            "Esta é a linha 9 => \n",
            "\n",
            "Esta é a linha 10 => 5 - SABER SE ELE USA A AVALIAÇÃO COM FIM EDUCATIVO OU APENAS DO RESULTADO DAS NOTAS\n",
            "\n",
            "Esta é a linha 11 => \n",
            "\n",
            "Esta é a linha 12 => 6 - SABER SE ELE EXPLICA EM SALA DE AULA DE UMA FORMA GERAL O RESULTADO DA AVALIAÇÃO OU PREFERE CONVERSAR COM CADA AULA\n",
            "\n",
            "Esta é a linha 13 => \n",
            "\n",
            "Esta é a linha 14 => 7 - SABER SE O PROFESSOR TEM UMA ATENÃO MAIS CUIDADOSA PARA QUEM TEM DIFICULDADE NA APREDIZAGEM DOS CONTEÚDOS\n",
            "\n",
            "Esta é a linha 15 => \n",
            "\n",
            "Esta é a linha 16 => 8 - SABER SE O PROFSSOR É ÉTICO NA AVALIAÇÃO E RESULTADO DAS PROVA.\n",
            "\n",
            "Esta é a linha 17 => \n",
            "\n",
            "Esta é a linha 18 => 9 - SABER SE O PROFESSOR AVISA COM ANTECEDÊNCIA O DIA DA AVALIAÇÃO\n",
            "\n",
            "Esta é a linha 19 => \n",
            "\n",
            "Esta é a linha 20 => 10 - SABER SE O PROFESSOR DIVULGA O RESULTADO DA AVALIAÇÃO DE MANIERA INDIVIDUAL OU PUBLICA NO MURAL DA ESCOLA\n",
            "\n",
            "Esta é a linha 21 => \n",
            "\n",
            "Esta é a linha 22 => CONVERSA COM O ALUNO (A)\n",
            "\n",
            "Esta é a linha 23 => \n",
            "\n",
            "Esta é a linha 24 => 1 - SABER SE O PROFESSOR AVISA COM ANTECEDENCIA O DIA DA AVALIAÇÃO\n",
            "\n",
            "Esta é a linha 25 => \n",
            "\n",
            "Esta é a linha 26 => 2 - SABER SE O PROFESSOR FAZ A AVALIAÇÃO USANDO OS MESMO CONTEÚDOS OU FAZ A AVALIAÇÃO USANDO CONTEÚDOS QUE NÃO FORAM DADOS EM SALA DE AULA\n",
            "\n",
            "Esta é a linha 27 => \n",
            "\n",
            "Esta é a linha 28 => 3 - SABER SE O PROFESSOR NÃO EXMPÕE O ALUNO QUE NÃO TEVE UMA BOA NOTA\n",
            "\n",
            "Esta é a linha 29 => \n",
            "\n",
            "Esta é a linha 30 => 4- SABER SE O PROFESSOR É JUSTO E ÉTICO NO PROCESSO AVALIATIVO\n",
            "\n",
            "Esta é a linha 31 => \n",
            "\n",
            "Esta é a linha 32 => 5 - SABER SE (no caso o aluno entrevista) SE O ALUNO SE SENTIU CONSTRANGIDO NO PROCESSO AVALIATIVO\n",
            "\n",
            "Esta é a linha 33 => \n",
            "\n",
            "Esta é a linha 34 => 6 - SABER SE O PROFESSOR TIRA AS DÚVIDAS DO ALUNO SOBRE O RESULTADO DA AVALIAÇÃO\n",
            "\n"
          ]
        }
      ],
      "source": [
        "# preste atenção ao nome do arquivo\n",
        "with open('teste.txt') as arq:\n",
        "    for i, linha_arq in enumerate(arq.readlines()):\n",
        "        print('Esta é a linha', i, '=>', linha_arq)"
      ]
    },
    {
      "cell_type": "markdown",
      "metadata": {
        "id": "HTXv_nJHh11l"
      },
      "source": [
        "O `with` faz a atribuição do valor retornado pelo `open` para a variável especificada depois do `as` e se responsabiliza por fazer o `close` quando a execução sai do seu bloco (não importa por qual caminho, mesmo que seja por um erro)."
      ]
    },
    {
      "cell_type": "markdown",
      "metadata": {
        "id": "VrdaExLAh11l"
      },
      "source": [
        "Para abrir um arquivo para escrita, basta usar `'w'` ao invés de `'r'`:"
      ]
    },
    {
      "cell_type": "code",
      "execution_count": 191,
      "metadata": {
        "collapsed": true,
        "id": "-qxI2ua5h11l"
      },
      "outputs": [],
      "source": [
        "with open('saida.txt', 'w') as arq:\n",
        "    print('Olá, caro novo usuário', file=arq)\n",
        "    print('Seja bem vindo', file=arq)\n",
        "    print('3 elevado a 27 vale', 3 ** 27, file=arq)"
      ]
    },
    {
      "cell_type": "markdown",
      "metadata": {
        "id": "VO57HEiOh11l"
      },
      "source": [
        "## 11 Módulos"
      ]
    },
    {
      "cell_type": "markdown",
      "metadata": {
        "id": "GyK0GZSEh11l"
      },
      "source": [
        "Muitas das funcionalidades de Python são fornecidas através de módulos, que são coleções de funções, classes e objetos que podem ser utilizados pelo programador. Por exemplo, para interface com o sistema operacional (`sys`); para dias e horas (`datetime`); operações matemáticas em ponto flutuante (`math`), entre inúmeros outros. Para usar as funcionalidades fornecidas por esses módulos, precisamos importá-los:"
      ]
    },
    {
      "cell_type": "code",
      "execution_count": 193,
      "metadata": {
        "id": "03LDMhq3h11l",
        "colab": {
          "base_uri": "https://localhost:8080/"
        },
        "outputId": "0e226af0-f383-4cf7-eed1-9b383390f2b7"
      },
      "outputs": [
        {
          "output_type": "stream",
          "name": "stdout",
          "text": [
            "3.141592653589793\n",
            "Isso o Python já sabia: 3.141592653589793\n"
          ]
        }
      ],
      "source": [
        "import math   # Importa tudo o que o módulo math define\n",
        "pi = 4 * math.atan(1) # math.atan é uma função que calcula arco-tangente\n",
        "print(pi)\n",
        "print('Isso o Python já sabia:', math.pi) # math.pi é uma constante"
      ]
    },
    {
      "cell_type": "markdown",
      "metadata": {
        "id": "2INlI87th11l"
      },
      "source": [
        "## 12 Alguns brindes"
      ]
    },
    {
      "cell_type": "markdown",
      "metadata": {
        "id": "g7Kz7YhAh11l"
      },
      "source": [
        "Ao construir uma lista com valores desejados, temos várias opções. Uma delas é fornecer os valores manualmente."
      ]
    },
    {
      "cell_type": "code",
      "execution_count": 194,
      "metadata": {
        "id": "0GECLOlzh11m",
        "colab": {
          "base_uri": "https://localhost:8080/"
        },
        "outputId": "512e1827-59f3-4d0c-ae3f-7358c78250e1"
      },
      "outputs": [
        {
          "output_type": "stream",
          "name": "stdout",
          "text": [
            "[0, 2, 4, 6, 8, 10, 12, 14, 16, 18]\n"
          ]
        }
      ],
      "source": [
        "pares_menores_que_20 = [0, 2, 4, 6, 8, 10, 12, 14, 16, 18]\n",
        "print(pares_menores_que_20)"
      ]
    },
    {
      "cell_type": "markdown",
      "metadata": {
        "id": "HMtwOnanh11m"
      },
      "source": [
        "Outra é calcular os valores e colocá-los numa lista:"
      ]
    },
    {
      "cell_type": "code",
      "execution_count": 196,
      "metadata": {
        "id": "IVD8VfnWh11m",
        "colab": {
          "base_uri": "https://localhost:8080/"
        },
        "outputId": "8878ebf5-077b-4cc5-d854-e346b4c4c6dc"
      },
      "outputs": [
        {
          "output_type": "stream",
          "name": "stdout",
          "text": [
            "[0, 2, 4, 6, 8, 10, 12, 14, 16, 18]\n"
          ]
        }
      ],
      "source": [
        "pares_menores_que_20 = []\n",
        "corrente = 0\n",
        "while corrente < 20:\n",
        "    pares_menores_que_20.append(corrente)\n",
        "    corrente += 2\n",
        "print(pares_menores_que_20)"
      ]
    },
    {
      "cell_type": "markdown",
      "metadata": {
        "id": "v_c1TWQmh11m"
      },
      "source": [
        "Nesses casos simples, onde as repetições do loop são regulares, é sempre melhor usar um `for`:"
      ]
    },
    {
      "cell_type": "code",
      "execution_count": 197,
      "metadata": {
        "id": "wUBUGS3Oh11m",
        "colab": {
          "base_uri": "https://localhost:8080/"
        },
        "outputId": "3602900a-8cd2-4ec2-de32-060d47b5c67c"
      },
      "outputs": [
        {
          "output_type": "stream",
          "name": "stdout",
          "text": [
            "[0, 2, 4, 6, 8, 10, 12, 14, 16, 18]\n"
          ]
        }
      ],
      "source": [
        "pares_menores_que_20 = []\n",
        "for corrente in range(0, 20, 2):\n",
        "    pares_menores_que_20.append(corrente)\n",
        "print(pares_menores_que_20)"
      ]
    },
    {
      "cell_type": "markdown",
      "metadata": {
        "id": "dndW8sUsh11m"
      },
      "source": [
        "Na verdade, vemos que os valores inseridos na lista são simplesmente os valores gerados pela `range`. Então, basta converter a range para uma lista:"
      ]
    },
    {
      "cell_type": "code",
      "execution_count": 198,
      "metadata": {
        "id": "8GooXzLRh11m",
        "colab": {
          "base_uri": "https://localhost:8080/"
        },
        "outputId": "e538c34d-7812-4eae-fd6b-625066dc7817"
      },
      "outputs": [
        {
          "output_type": "stream",
          "name": "stdout",
          "text": [
            "[0, 2, 4, 6, 8, 10, 12, 14, 16, 18]\n"
          ]
        }
      ],
      "source": [
        "pares_menores_que_20 = list(range(0, 20, 2))\n",
        "print(pares_menores_que_20)"
      ]
    },
    {
      "cell_type": "markdown",
      "metadata": {
        "id": "IuQ36N0Vh11n"
      },
      "source": [
        "Uma outra forma de gerar listas diretamente é através da chamada *list comprehension*:"
      ]
    },
    {
      "cell_type": "code",
      "execution_count": 199,
      "metadata": {
        "id": "YpWxl16Sh11n",
        "colab": {
          "base_uri": "https://localhost:8080/"
        },
        "outputId": "768434f0-46d4-4d5b-e937-9adae22ffb36"
      },
      "outputs": [
        {
          "output_type": "stream",
          "name": "stdout",
          "text": [
            "[0, 2, 4, 6, 8, 10, 12, 14, 16, 18]\n"
          ]
        }
      ],
      "source": [
        "pares_menores_que_20 = [i for i in range(0, 20, 2)]\n",
        "print(pares_menores_que_20)"
      ]
    },
    {
      "cell_type": "markdown",
      "metadata": {
        "id": "whgoedqCh11n"
      },
      "source": [
        "A sintaxe inclui uma expressão para o cálculo do valor a ser inserido na lista (no exemplo apenas o valor da variável `i`), a palavra-chave `for` o nome da variável usada na expressão (no exemplo `i`) e a palavra-chave `in` seguida de um gerador de valores (no exemplo o `range`).\n",
        "\n",
        "É claro que para esse caso simples, é mais fácil usar a conversão direto da range para uma lista, como no exemplo acima, mas quando os cálculos são mais complexos, o uso de *list comprehension* fica interessante:"
      ]
    },
    {
      "cell_type": "code",
      "execution_count": 200,
      "metadata": {
        "id": "Wa5vFg5bh11n",
        "colab": {
          "base_uri": "https://localhost:8080/"
        },
        "outputId": "9b4d2a85-ba64-4163-e46f-b59bdbf3327f"
      },
      "outputs": [
        {
          "output_type": "stream",
          "name": "stdout",
          "text": [
            "[1, 4, 16, 64, 256, 1024, 4096, 16384, 65536, 262144]\n"
          ]
        }
      ],
      "source": [
        "potencia_2_de_alguns_pares = [2 ** i for i in range(0, 20, 2)]\n",
        "print(potencia_2_de_alguns_pares)"
      ]
    },
    {
      "cell_type": "markdown",
      "metadata": {
        "id": "bhTAWIxdh11n"
      },
      "source": [
        "Podemos usar sintaxes similares para gerar conjuntos ou dicionários:"
      ]
    },
    {
      "cell_type": "code",
      "execution_count": 201,
      "metadata": {
        "scrolled": true,
        "id": "aRNV86R1h11o",
        "colab": {
          "base_uri": "https://localhost:8080/"
        },
        "outputId": "d3274022-b69c-462c-9858-25eaaac5367b"
      },
      "outputs": [
        {
          "output_type": "stream",
          "name": "stdout",
          "text": [
            "Pares: {0, 2, 4, 6, 8, 10, 12, 14, 16, 18}\n",
            "Impares: {1, 3, 5, 7, 9, 11, 13, 15, 17, 19}\n",
            "Todos: {0, 1, 2, 3, 4, 5, 6, 7, 8, 9, 10, 11, 12, 13, 14, 15, 16, 17, 18, 19}\n",
            "{0: 0, 1: 1, 2: 4, 3: 9, 4: 16, 5: 25, 6: 36, 7: 49, 8: 64, 9: 81}\n"
          ]
        }
      ],
      "source": [
        "pares_ate_20 = {i for i in range(0, 20, 2)}    # O mesmo que set(range(0, 20, 2))\n",
        "impares_ate_20 = {i for i in range(1, 20, 2)}  # O mesmo que set(range(1, 20, 2))\n",
        "print('Pares:', pares_ate_20)\n",
        "print('Impares:',  impares_ate_20)\n",
        "print('Todos:', pares_ate_20 | impares_ate_20) # O operador | é a união de conjuntos\n",
        "\n",
        "tabela_quadrados = {i: i**2 for i in range(10)}\n",
        "print(tabela_quadrados)"
      ]
    },
    {
      "cell_type": "markdown",
      "metadata": {
        "id": "Gy7uNooDh11o"
      },
      "source": [
        "Quando precisamos uam função simples (apenas um cálculo retornando um valor), não precisamos definir a função através de um `def`, mas podemos usar funções *lambda*, como abaixo."
      ]
    },
    {
      "cell_type": "code",
      "execution_count": 202,
      "metadata": {
        "id": "5gJkoevdh11o",
        "colab": {
          "base_uri": "https://localhost:8080/"
        },
        "outputId": "08e8c8da-3662-4bd8-bcbb-2e72a2607910"
      },
      "outputs": [
        {
          "output_type": "stream",
          "name": "stdout",
          "text": [
            "5\n",
            "4\n",
            "7\n",
            "14\n",
            "25\n",
            "40\n",
            "59\n"
          ]
        }
      ],
      "source": [
        "meu_poli = lambda x: 2 * x**2 - 3*x + 5\n",
        "\n",
        "for i in range(7):\n",
        "    print(meu_poli(i))"
      ]
    },
    {
      "cell_type": "markdown",
      "metadata": {
        "id": "QGr2nHh2h11o"
      },
      "source": [
        "Essas funções podem usar não apenas constantes e os parâmetros, como no exemplo acima, mas também outros elementos definidos no contexto em que elas são criadas."
      ]
    },
    {
      "cell_type": "code",
      "execution_count": 203,
      "metadata": {
        "id": "x-jKp_aFh11o",
        "colab": {
          "base_uri": "https://localhost:8080/"
        },
        "outputId": "06b1589a-072a-4093-814a-80abb6d6864c"
      },
      "outputs": [
        {
          "output_type": "stream",
          "name": "stdout",
          "text": [
            "Na Terra, para 10 m/s, volta em 2.0366598778004072 s\n",
            "Mas na Lua, para 10 m/s, volta em 12.31527093596059 s\n"
          ]
        }
      ],
      "source": [
        "g = 9.82\n",
        "tmax = lambda v0: v0/g\n",
        "\n",
        "print('Na Terra, para', 10, 'm/s, volta em', 2*tmax(10), 's')\n",
        "\n",
        "g = 1.624\n",
        "print('Mas na Lua, para', 10, 'm/s, volta em', 2*tmax(10), 's')\n"
      ]
    },
    {
      "cell_type": "markdown",
      "metadata": {
        "id": "0-Gzcv8Fh11p"
      },
      "source": [
        "**Note como isso é muito perigoso e pode gerar dificuldades de interpretar resultados!** No caso acima, o ideal é que `g` seja também um parâmetro."
      ]
    },
    {
      "cell_type": "markdown",
      "metadata": {
        "id": "6IXll7XTh11p"
      },
      "source": [
        "Algumas funções interessantes adicionais:\n",
        "\n",
        "- `abs(x)`: valor absoluto de `x`.\n",
        "- `all(it)`: retorna `True` se todos os valores em `it` forem `True` (ou equivalentes) ou se `it` for vazio.\n",
        "- `any(it)`: retorna `True` se qualquer dos elementos de `it` for `True`.\n",
        "- `chr(x)`: retorna caracter correspondente ao código inteiro `x`.\n",
        "- `input(st)`: Mostra mensagem `st`, aguarda dados lidos do usuário e os retorna.\n",
        "- `map(f, it)`: aplica a função `f` a cada um dos valores retornados pelo iterador `it` e retorna um iterador com os valores correspondentes.\n",
        "- `max(it)`: retorna o maior valor de `it`.\n",
        "- `min(it)`: retorna o menor valor de `it`.\n",
        "- `ord(c)`: retorna inteiro correspondente a código Unicode do caracter `c`.\n",
        "- `pow(x, y)`: equivalente a `x ** y` (mais adequado em algumas situações).\n",
        "- `reversed(it)`: fornece os valores de `it` em ordem revertida.\n",
        "- `round(x, n)`: arredonda `x` para `n` dígitos depois da vírgula. Se `n` não é fornecido, ele é assumido 0.\n",
        "- `sorted(it)`: fornece os valores de `it` em ordem crescente (ver também outros parâmetros na documentação).\n",
        "- `sum(it)`: retorna a soma dos valores de `it`.\n",
        "- `zip(it1, it2)`: retorna pares com um elementos de `it1` e um elementos de `it2`, até um dos iteradores terminar.\n",
        "\n",
        "Veja exemplos abaixo."
      ]
    },
    {
      "cell_type": "code",
      "execution_count": 204,
      "metadata": {
        "id": "dr0VAlazh11p",
        "colab": {
          "base_uri": "https://localhost:8080/"
        },
        "outputId": "cec555e9-8aac-4c6f-feb4-40859851197c"
      },
      "outputs": [
        {
          "output_type": "stream",
          "name": "stdout",
          "text": [
            "1: 2 3.4 5.0\n",
            "2: False True True\n",
            "3: -7 6\n",
            "4: 11\n",
            "5: [0, -3, -7, 6, 4, 2, 5, 3, 1] [-7, -3, 0, 1, 2, 3, 4, 5, 6]\n",
            "6: [5, 11, 17, 8, 14, 20, -19, -7, 2]\n",
            "7: 99 e\n",
            "Qual seu nome?timmers Arruda\n",
            "8: Bem vindo, timmers Arruda!\n",
            "9: ujnnfst!Bssveb\n",
            "10: 3.14159265 3 3.14 3.1416 3.141593\n",
            "11: 1:0, 3:-3, 5:-7, 2:6, 4:4, 6:2, -7:5, -3:3, 0:1, "
          ]
        }
      ],
      "source": [
        "x, y, z = 2, -3.4, 3 + 4j\n",
        "print('1:', abs(x), abs(y), abs(z))\n",
        "\n",
        "meus_valores = [1, 3, 5, 2, 4, 6, -7, -3, 0]\n",
        "print('2:', all(meus_valores), any(meus_valores), all(meus_valores[:8]))\n",
        "\n",
        "print('3:', min(meus_valores), max(meus_valores))\n",
        "\n",
        "print('4:', sum(meus_valores))\n",
        "\n",
        "print('5:', list(reversed(meus_valores)), list(sorted(meus_valores)))\n",
        "\n",
        "print('6:', list(map(lambda x: 3*x + 2, meus_valores)))\n",
        "\n",
        "ic = ord('c')\n",
        "x = chr(ic + 2)\n",
        "print('7:', ic, x)\n",
        "\n",
        "nome = input('Qual seu nome?')\n",
        "print('8:', 'Bem vindo, '+ nome+'!')\n",
        "print('9:', ''.join(map(lambda c: chr(ord(c) + 1), nome)))\n",
        "\n",
        "meu_pi = 3.14159265\n",
        "print('10:', meu_pi, round(meu_pi), round(meu_pi, 2), round(meu_pi, 4), round(meu_pi, 6))\n",
        "\n",
        "print('11:', end=' ')\n",
        "for a, b in zip(meus_valores, reversed(meus_valores)):\n",
        "    print(a, ':', b, sep='', end=', ')"
      ]
    },
    {
      "cell_type": "markdown",
      "metadata": {
        "id": "EYCtmFXth11p"
      },
      "source": [
        "## 13 CUIDADO: Referências!"
      ]
    },
    {
      "cell_type": "markdown",
      "metadata": {
        "id": "SZnK9QEih11p"
      },
      "source": [
        "Tanto variáveis como listas, tuplas e dicionários (além de outras estruturas de dados), guardam **referências** para objetos que têm os valores especificados. Lembre-se disso, para poder entender corretamente o funcionamento de codigos Python."
      ]
    },
    {
      "cell_type": "code",
      "execution_count": 205,
      "metadata": {
        "id": "1-n5nQLNh11q",
        "colab": {
          "base_uri": "https://localhost:8080/"
        },
        "outputId": "d946ce75-7bf6-4153-d3bb-94ed266802d8"
      },
      "outputs": [
        {
          "output_type": "stream",
          "name": "stdout",
          "text": [
            "b vale: [1, 2, 4]\n",
            "a vale: [1, 2, 4]\n"
          ]
        }
      ],
      "source": [
        "a = [1, 2, 3] # a é uma referência para essa lista alegre\n",
        "b = a # b é o mesmo que a, quer dizer, uma referência para a mesma lista. O objeto de lista é o mesmo!\n",
        "b[2] = 4 # Mudando o elementos de índice 2 da lista referenciada por b\n",
        "print('b vale:', b) # Veja o que é mostrado\n",
        "print('a vale:', a) # E aqui!!!"
      ]
    },
    {
      "cell_type": "markdown",
      "metadata": {
        "id": "pQomysIKh11q"
      },
      "source": [
        "Isso acontece pois, como escrito nos comentários, ao alterarmos `b[2]` estamos alterando o elemento de índice 2 da lista **referenciada** por `b`, que por acaso é a mesma lista referenciada por `a`. Isso vai acontecer com qualquer operação que altere a lista."
      ]
    },
    {
      "cell_type": "code",
      "execution_count": 206,
      "metadata": {
        "id": "o4qAUuIFh11q",
        "colab": {
          "base_uri": "https://localhost:8080/"
        },
        "outputId": "21352b50-45a3-43b0-cfa5-47e3ae16f419"
      },
      "outputs": [
        {
          "output_type": "stream",
          "name": "stdout",
          "text": [
            "a vale: [1, 2, 4, 8]\n",
            "b vale: [1, 2, 4, 8]\n"
          ]
        }
      ],
      "source": [
        "a.append(8)\n",
        "print('a vale:', a)\n",
        "print('b vale:', b)"
      ]
    },
    {
      "cell_type": "markdown",
      "metadata": {
        "id": "fM9FMPPzh11q"
      },
      "source": [
        "Mas se mudarmos a referência de uma das variáveis, então elas não são mais relacionadas:"
      ]
    },
    {
      "cell_type": "code",
      "execution_count": 207,
      "metadata": {
        "id": "f9B-fX3ch11q",
        "colab": {
          "base_uri": "https://localhost:8080/"
        },
        "outputId": "0c1f21df-4815-4cbc-bc0d-a2ba74542625"
      },
      "outputs": [
        {
          "output_type": "stream",
          "name": "stdout",
          "text": [
            "[1, 2, 4, 8] [3, 4]\n"
          ]
        }
      ],
      "source": [
        "b = [3, 4]\n",
        "print(a, b)"
      ]
    },
    {
      "cell_type": "markdown",
      "metadata": {
        "id": "bjMRhK7Eh11q"
      },
      "source": [
        "No caso acima, a primeira atribuição faz a variável `b` referenciar a nova lista (com os valores 3 e 4), e portanto deixar de referenciar a lista anterior. Mas a variável `a` não foi afetada, e continua referenciando a mesma lista."
      ]
    },
    {
      "cell_type": "markdown",
      "metadata": {
        "id": "9YmEbnd1h11r"
      },
      "source": [
        "Ou veja este caso um pouco mais elaborado:"
      ]
    },
    {
      "cell_type": "code",
      "execution_count": 208,
      "metadata": {
        "id": "uW0t21Rmh11r",
        "colab": {
          "base_uri": "https://localhost:8080/"
        },
        "outputId": "31139a00-63c6-480a-cfc0-92ae335ebe88"
      },
      "outputs": [
        {
          "output_type": "stream",
          "name": "stdout",
          "text": [
            "Aqui nenhum negativo: [0, 1, 2, 3, 4, 5, 6, 7, 8]\n",
            "E esta é a original: [0, 1, 2, 3, 4, 5, 6, 7, 8]\n"
          ]
        }
      ],
      "source": [
        "def valor_absoluto(lista_original):\n",
        "    lista_nova = lista_original\n",
        "    for i, x in enumerate(lista_nova):\n",
        "        lista_nova[i] = abs(x)\n",
        "    return lista_nova\n",
        "\n",
        "minha_lista = [0, 1, -2, 3, -4, -5, 6, 7, -8]\n",
        "sem_negativo = valor_absoluto(minha_lista)\n",
        "print('Aqui nenhum negativo:', sem_negativo)\n",
        "print('E esta é a original:', minha_lista)"
      ]
    },
    {
      "cell_type": "markdown",
      "metadata": {
        "id": "_WuY96y_h11r"
      },
      "source": [
        "No código abaixo, está uma tentativa de implementar um algoritmo que requer a iteração de valores em uma lista até que entre o valor atual e o anterior não haja uma diferença absoluta maior do que 0.0001.\n",
        "\n",
        "Veja o resultado. Você consegue explicar o que ocorreu?"
      ]
    },
    {
      "cell_type": "code",
      "execution_count": 209,
      "metadata": {
        "id": "O_8xVCM0h11r",
        "colab": {
          "base_uri": "https://localhost:8080/"
        },
        "outputId": "762a073d-136b-4722-c242-96efbb2412c3"
      },
      "outputs": [
        {
          "output_type": "stream",
          "name": "stdout",
          "text": [
            "Convergiu para os seguintes valores: [10.0, 5.0, 5.0, 5.25, 4.3125, 5.328125, 1.95703125, 1.9892578125, 2.997314453125, 0]\n",
            "Máxima diferença encontrada: 0.0\n",
            "Número de passos: 1\n"
          ]
        }
      ],
      "source": [
        "valores = [10., 3., 4., 7., 2., 8., 1., 0.5, 5., 0]\n",
        "N = len(valores)\n",
        "diff = 1.0\n",
        "passos = 0\n",
        "while diff > 0.0001:\n",
        "    valores_antigos = valores\n",
        "    for i in range(1, N-1):\n",
        "        valores[i] = (valores_antigos[i-1] + 2.0 * valores_antigos[i] + valores_antigos[i+1]) / 4.\n",
        "    diff = 0.\n",
        "    for i in range(N):\n",
        "        diff = max(diff, abs(valores_antigos[i] - valores[i]))\n",
        "    passos += 1\n",
        "\n",
        "print('Convergiu para os seguintes valores:', valores)\n",
        "print('Máxima diferença encontrada:', diff)\n",
        "print('Número de passos:', passos)"
      ]
    },
    {
      "cell_type": "markdown",
      "metadata": {
        "id": "JB5D1LO5h11s"
      },
      "source": [
        "Para resolver esse tipo de problema, precisamos garantir que a outra variável receba uma **referência para um novo objeto**, que então pode ter seu valor alterado sem alterar o objeto original. Para isso, usamos o método `copy`."
      ]
    },
    {
      "cell_type": "code",
      "execution_count": 210,
      "metadata": {
        "id": "CnqKML5zh11s",
        "colab": {
          "base_uri": "https://localhost:8080/"
        },
        "outputId": "b3150c03-b992-4a89-91fc-a01a2012ac61"
      },
      "outputs": [
        {
          "output_type": "stream",
          "name": "stdout",
          "text": [
            "a vale [1, 2, 3]\n",
            "b vale [1, 2, 4]\n"
          ]
        }
      ],
      "source": [
        "a = [1, 2, 3]\n",
        "b = a.copy()\n",
        "b[2] = 4\n",
        "print('a vale', a)\n",
        "print('b vale', b)"
      ]
    },
    {
      "cell_type": "markdown",
      "metadata": {
        "id": "sZz3uqE2h11s"
      },
      "source": [
        "Mas **cuidado**! Isso nem sempre é suficiente. Mais especificamente, o `copy` faz uma cópia do objeto, mas se esse objeto contém referências, ele simplesmente copia as referência..."
      ]
    },
    {
      "cell_type": "code",
      "execution_count": 211,
      "metadata": {
        "id": "yvwmJFYTh11s",
        "colab": {
          "base_uri": "https://localhost:8080/"
        },
        "outputId": "4aeb7344-656d-4a78-e679-8f5feb95b6c0"
      },
      "outputs": [
        {
          "output_type": "stream",
          "name": "stdout",
          "text": [
            "c vale [[1, 314], [2, 4], [3, 6]]\n",
            "d vale [[1, 314], [2, 4], [3, 6]]\n"
          ]
        }
      ],
      "source": [
        "c = [[1, 2], [2, 4], [3, 6]]\n",
        "d = c.copy()\n",
        "d[0][1] = 314\n",
        "print('c vale', c)\n",
        "print('d vale', d)"
      ]
    },
    {
      "cell_type": "markdown",
      "metadata": {
        "id": "MZ5rc4jih11s"
      },
      "source": [
        "Isso porque `d[0]` é uma referência para uma lista, que por acaso é a mesma referenciada por `c[0]`. Portanto, ao alterarmos `d[0][1]` estamos também alterando `c[0][1]`!\n",
        "\n",
        "Para esses casos, a saída geral (apesar de que podem haver soluções mais eficientes para cada problema específico) é usar a função `deepcopy` do módulo `copy`, que faz recursivamente uma cópia sempre que acha uma referência. Neste caso, como ele sabe que cada `c[i]` é uma referência, ele faz cópias de cada uma dessas listas:"
      ]
    },
    {
      "cell_type": "code",
      "execution_count": 212,
      "metadata": {
        "id": "3h93adkMh11t",
        "colab": {
          "base_uri": "https://localhost:8080/"
        },
        "outputId": "538813d4-d06a-4d1c-cc30-3453cbfeb1cd"
      },
      "outputs": [
        {
          "output_type": "stream",
          "name": "stdout",
          "text": [
            "c vale [[1, 2], [2, 4], [3, 6]]\n",
            "d vale [[1, 314], [2, 4], [3, 6]]\n"
          ]
        }
      ],
      "source": [
        "import copy\n",
        "c = [[1, 2], [2, 4], [3, 6]]\n",
        "d = copy.deepcopy(c)\n",
        "d[0][1] = 314\n",
        "print('c vale', c)\n",
        "print('d vale', d)"
      ]
    }
  ],
  "metadata": {
    "kernelspec": {
      "display_name": "Python 3",
      "language": "python",
      "name": "python3"
    },
    "language_info": {
      "codemirror_mode": {
        "name": "ipython",
        "version": 3
      },
      "file_extension": ".py",
      "mimetype": "text/x-python",
      "name": "python",
      "nbconvert_exporter": "python",
      "pygments_lexer": "ipython3",
      "version": "3.7.1"
    },
    "colab": {
      "provenance": [],
      "toc_visible": true,
      "include_colab_link": true
    }
  },
  "nbformat": 4,
  "nbformat_minor": 0
}